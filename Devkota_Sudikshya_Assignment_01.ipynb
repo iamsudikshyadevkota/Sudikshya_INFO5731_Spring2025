{
  "cells": [
    {
      "cell_type": "markdown",
      "metadata": {
        "id": "view-in-github"
      },
      "source": [
        "<a href=\"https://drive.google.com/file/d/18wDeN-hh3NiYN-iXa7nJmyEv2naH8AFX/view?usp=sharing\" target=\"_parent\"><img src=\"https://colab.research.google.com/assets/colab-badge.svg\" alt=\"Open In Colab\"/></a>"
      ]
    },
    {
      "cell_type": "markdown",
      "metadata": {
        "id": "Ryk8D1Q4Wsrp"
      },
      "source": [
        "# **INFO5731 Assignment - 1**"
      ]
    },
    {
      "cell_type": "markdown",
      "source": [
        "This assignment includes range of programming tasks and data analysis exercises, aiming to enhance your Python skills and proficiency in string manipulation, numerical computations, and data science. Follow the instructions carefully and design well-structured Python programs to address each question.\n",
        "\n",
        "\n",
        "1.  Question 1-5 using AI assistance is strictly prohibted\n",
        "2.  Question 6-7 AI assitance is recommended by following guidelines.\n",
        "\n",
        "Guidelines and expectations file can be found in week 2 module.\n",
        "\n",
        "Late Submission will have a penalty of 10% reduction for each day after the deadline."
      ],
      "metadata": {
        "id": "qcP6re2g5A5r"
      }
    },
    {
      "cell_type": "markdown",
      "metadata": {
        "id": "JkzR8cFAyGik"
      },
      "source": [
        "# Question 1 (10 points).\n",
        "\n",
        "The formula that describes the volume V of a hemisphere with radius r is the following:\n",
        "\n",
        "$ V=\\frac{2}{3}\\ast\\ \\pi\\ast\\ r^3 $\n",
        "\n",
        "Write a program to calculate the value of V when r is in the range of even numbers from 1-20. Output the result in the following format:\n",
        "\n",
        "\tr\tV\n",
        "\t2\t…\n",
        "\t4\t…\n",
        "\t6\t…\n",
        "\t.\n",
        "\t.\n",
        "\t.\n",
        "\t20\t…\n"
      ]
    },
    {
      "cell_type": "code",
      "execution_count": 9,
      "metadata": {
        "id": "jDyTKYs-yGit",
        "colab": {
          "base_uri": "https://localhost:8080/"
        },
        "outputId": "6fdeb94e-0f8c-4714-9c11-a072e7fad5ad"
      },
      "outputs": [
        {
          "output_type": "stream",
          "name": "stdout",
          "text": [
            "2 16.755160819145562\n",
            "4 134.0412865531645\n",
            "6 452.38934211693015\n",
            "8 1072.330292425316\n",
            "10 2094.3951023931954\n",
            "12 3619.114736935441\n",
            "14 5747.0201609669275\n",
            "16 8578.642339402528\n",
            "18 12214.512237157114\n",
            "20 16755.160819145563\n"
          ]
        }
      ],
      "source": [
        "# declaring the range of even numbers from 1-20\n",
        "r = [2,4,6,8,10,12,14,16,18,20]\n",
        "pi = 3.141592653589793\n",
        "\n",
        "# using for loop\n",
        "for x in r:\n",
        "  V = (2/3) * pi * x**3\n",
        "  print(x, V)"
      ]
    },
    {
      "cell_type": "markdown",
      "metadata": {
        "id": "90_NR8c5XGWc"
      },
      "source": [
        "# Question 2 (10 points)\n",
        "\n",
        "(a) Write a Python program to generate a sequence of 12 random numbers falling within the range of 50 to 150.\n",
        "\n",
        "(b) Arrange the generated numbers in ascending order. Display the sorted list.\n",
        "\n",
        "(c) Extend the program to arrange the numbers in descending order as well. Present the sorted list accordingly.\n",
        "\n",
        "(d) Compute and output the average of the entire group of generated numbers.\n",
        "\n",
        "(e) Enhance the program to calculate and display the average of the first 6 numbers from both the ascending and descending sorted lists."
      ]
    },
    {
      "cell_type": "code",
      "execution_count": 10,
      "metadata": {
        "id": "5QX6bJjGWXY9",
        "colab": {
          "base_uri": "https://localhost:8080/"
        },
        "outputId": "cf6f8af9-88e2-41f5-82b9-784c645ab0b2"
      },
      "outputs": [
        {
          "output_type": "stream",
          "name": "stdout",
          "text": [
            "[89, 92, 62, 94, 139, 60, 86, 60, 102, 59, 129, 145]\n"
          ]
        }
      ],
      "source": [
        "import random\n",
        "\n",
        "# generating a sequence of 12 random numbers from the range 50 to 150\n",
        "# use a different variable\n",
        "num_range = range(50, 151)\n",
        "\n",
        "#random function using sample\n",
        "random_numbers = [random.randint(50, 150) for _ in range(12)]\n",
        "\n",
        "# printing the generated list of random numbers\n",
        "print(random_numbers)"
      ]
    },
    {
      "cell_type": "code",
      "source": [
        "# sorting the numbers in ascending order\n",
        "asc_order = sorted(random_numbers)\n",
        "print('Ascending Order:', asc_order)"
      ],
      "metadata": {
        "id": "kO9G_UvlZeKM",
        "colab": {
          "base_uri": "https://localhost:8080/"
        },
        "outputId": "016bb901-ac80-4e58-f4b5-67539a5ee4d9"
      },
      "execution_count": 11,
      "outputs": [
        {
          "output_type": "stream",
          "name": "stdout",
          "text": [
            "Ascending Order: [59, 60, 60, 62, 86, 89, 92, 94, 102, 129, 139, 145]\n"
          ]
        }
      ]
    },
    {
      "cell_type": "code",
      "source": [
        "# sorting the numbers in descending order\n",
        "\n",
        "des_order = sorted(random_numbers, reverse=True)\n",
        "print('Descending Order:', des_order)"
      ],
      "metadata": {
        "id": "B0C0bowHZ248",
        "colab": {
          "base_uri": "https://localhost:8080/"
        },
        "outputId": "cef68bca-9a85-4715-bc4f-7e00e18e65c0"
      },
      "execution_count": 12,
      "outputs": [
        {
          "output_type": "stream",
          "name": "stdout",
          "text": [
            "Descending Order: [145, 139, 129, 102, 94, 92, 89, 86, 62, 60, 60, 59]\n"
          ]
        }
      ]
    },
    {
      "cell_type": "code",
      "source": [
        "# to find out the average of the entire group of generated numbers\n",
        "\n",
        "average = int(sum(random_numbers)/len(random_numbers))\n",
        "print('Random number:', random_numbers)\n",
        "print('Average number:', average)"
      ],
      "metadata": {
        "id": "8md85rkCaweK",
        "colab": {
          "base_uri": "https://localhost:8080/"
        },
        "outputId": "7a6b4bf9-1a51-4419-a5a4-01ff2451312d"
      },
      "execution_count": 18,
      "outputs": [
        {
          "output_type": "stream",
          "name": "stdout",
          "text": [
            "Random number: [89, 92, 62, 94, 139, 60, 86, 60, 102, 59, 129, 145]\n",
            "Average number: 93\n"
          ]
        }
      ]
    },
    {
      "cell_type": "code",
      "source": [
        "# displaying the average of the first 6 numbers from both the ascending and descending sorted lists\n",
        "\n",
        "\n",
        "# slicing to find average of the first 6 numbers from ascending and descending order\n",
        "\n",
        "average_asc = asc_order[:6]\n",
        "average_des = asc_order[:6]\n",
        "\n",
        "# finding average of both ascending and descending\n",
        "\n",
        "average_asc_sum = sum(average_asc)/6\n",
        "average_des_sum = sum(average_des)/6\n",
        "\n",
        "\n",
        "print('Ascending order:', asc_order)\n",
        "print('Descending Order:', des_order)\n",
        "print('Average ascending number:', average_asc_sum)\n",
        "print('Average descending number:', average_des_sum)"
      ],
      "metadata": {
        "id": "gnzhbffFbhWi",
        "colab": {
          "base_uri": "https://localhost:8080/"
        },
        "outputId": "d986166a-d739-4182-d3d5-899c23322bc8"
      },
      "execution_count": 22,
      "outputs": [
        {
          "output_type": "stream",
          "name": "stdout",
          "text": [
            "Ascending order: [59, 60, 60, 62, 86, 89, 92, 94, 102, 129, 139, 145]\n",
            "Descending Order: [145, 139, 129, 102, 94, 92, 89, 86, 62, 60, 60, 59]\n",
            "Average ascending number: 69.33333333333333\n",
            "Average descending number: 69.33333333333333\n"
          ]
        }
      ]
    },
    {
      "cell_type": "markdown",
      "metadata": {
        "id": "1F_PZdH9Sh49"
      },
      "source": [
        "# Question 3 (10 points).\n",
        "\n",
        "Create a Python program that encompasses various string manipulation task:\n",
        "\n",
        "(a) Prompt the user to input two sentences.\n",
        "\n",
        "(b) Transform each sentence into a list, where each element corresponds to a word in the sentence. For example, if the sentences are \"Hello, how are you doing today?\" and \"This is an example sentence for the program!\"\n",
        "\n",
        "The program should output:\n",
        "['Hello', ',', 'how', 'are', 'you', 'doing', 'today', '?', 'This', 'is', 'an', 'example', 'sentence', 'for', 'the', 'program', '!']\n",
        "\n",
        "(c) Compare the two sentences. Print out a list of words that occur in both sentences.\n",
        "\n",
        "(d) Remove any punctuation from the sentence and print the sanitized sentences. It should remove at least the following characters, but it can remove more: period(“.”), comma (“,”), semicolon (“;”), and colon (“:”).\n",
        "\n",
        "(e) Count the number of vowels in each of the sentences. Print out each vowel and the occurrences  in the each of the two sentences separately, such as:\n",
        "\n",
        "Sentence1: a:2, e:2, i:0, etc.\n",
        "Sentence2: a:1, e:2, i:2, etc.\n",
        "\n",
        "Design a well-structured Python program to execute these tasks efficiently."
      ]
    },
    {
      "cell_type": "code",
      "execution_count": 28,
      "metadata": {
        "id": "Y0oOSlsOS0cq",
        "colab": {
          "base_uri": "https://localhost:8080/"
        },
        "outputId": "8ec2c8cd-e0b3-46d0-c582-356a0a454c27"
      },
      "outputs": [
        {
          "output_type": "stream",
          "name": "stdout",
          "text": [
            "Enter first sentence here: Hello, how are you doing today?\n",
            "Enter Second sentence here: Hello, I am good.\n",
            "First sentence: ['Hello,', 'how', 'are', 'you', 'doing', 'today?']\n",
            "Second sentence: ['Hello,', 'I', 'am', 'good.']\n"
          ]
        }
      ],
      "source": [
        "# prompting the user to input two sentences\n",
        "\n",
        "user_input_1 = input('Enter first sentence here: ')\n",
        "user_input_2 = input('Enter Second sentence here: ')\n",
        "\n",
        "# transforming each sentence into a list by using split function\n",
        "\n",
        "first_sentence = user_input_1.split()\n",
        "second_sentence = user_input_2.split()\n",
        "\n",
        "print('First sentence:', first_sentence)\n",
        "print('Second sentence:', second_sentence)"
      ]
    },
    {
      "cell_type": "code",
      "source": [
        "# comparing the two sentences\n",
        "\n",
        "similar_word = list(set(first_sentence) & set(second_sentence))\n",
        "print('Similar word:', similar_word)\n",
        "similar_word"
      ],
      "metadata": {
        "id": "oS5gQpuey8NU",
        "colab": {
          "base_uri": "https://localhost:8080/"
        },
        "outputId": "3e5ece1e-fb49-4266-8867-a8face1fe254"
      },
      "execution_count": 29,
      "outputs": [
        {
          "output_type": "stream",
          "name": "stdout",
          "text": [
            "Similar word: ['Hello,']\n"
          ]
        },
        {
          "output_type": "execute_result",
          "data": {
            "text/plain": [
              "['Hello,']"
            ]
          },
          "metadata": {},
          "execution_count": 29
        }
      ]
    },
    {
      "cell_type": "code",
      "source": [
        "# removing any punctuation from the sentence\n",
        "\n",
        "import re\n",
        "\n",
        "# cleaning user input 1 using re module\n",
        "cleaned_first_sentence = re.sub(r'[^\\w\\s]', '', user_input_1)\n",
        "cleaned_second_sentence = re.sub(r'[^\\w\\s]', '', user_input_2)\n",
        "\n",
        "# printing cleaned sentences\n",
        "print('Cleaned first sentence:', cleaned_first_sentence)\n",
        "print('Cleaned second sentence:', cleaned_second_sentence)"
      ],
      "metadata": {
        "id": "ompCjSmA1dwh",
        "colab": {
          "base_uri": "https://localhost:8080/"
        },
        "outputId": "6d0ce627-1f2d-4ae5-f761-1c8738521f6c"
      },
      "execution_count": 32,
      "outputs": [
        {
          "output_type": "stream",
          "name": "stdout",
          "text": [
            "Cleaned first sentence: Hello how are you doing today\n",
            "Cleaned second sentence: Hello I am good\n"
          ]
        }
      ]
    },
    {
      "cell_type": "code",
      "source": [
        "# counting the number of vowels in each of the sentences\n",
        "\n",
        "# defining the count_vowels\n",
        "\n",
        "def count_vowels(sentence):\n",
        "  vowels = 'aeiouAEIOU'\n",
        "  count = sum(1 for character in sentence if character in vowels)\n",
        "  return count\n",
        "\n",
        "# counting vowels\n",
        "vowel_count_1 = count_vowels(cleaned_first_sentence)\n",
        "vowel_count_2 = count_vowels(cleaned_second_sentence)\n",
        "\n",
        "# printing vowels count\n",
        "print('The number of vowel in first sentence is:', vowel_count_1)\n",
        "print('The number of vowel in second sentence is:', vowel_count_2)\n",
        "\n"
      ],
      "metadata": {
        "id": "yehogugx9omO",
        "colab": {
          "base_uri": "https://localhost:8080/"
        },
        "outputId": "b67e07ff-197c-4c1c-aae1-58463f4615df"
      },
      "execution_count": 33,
      "outputs": [
        {
          "output_type": "stream",
          "name": "stdout",
          "text": [
            "The number of vowel in first sentence is: 11\n",
            "The number of vowel in second sentence is: 6\n"
          ]
        }
      ]
    },
    {
      "cell_type": "markdown",
      "source": [
        "# Question 4 (10 Points)"
      ],
      "metadata": {
        "id": "OP4-5qxAtInv"
      }
    },
    {
      "cell_type": "markdown",
      "source": [
        "Design and implement a simple command-line calculator program. The program should handle both integers and floating-point numbers.\n",
        "\n",
        "(a) Write program that takes a mathematical expression as input and evaluates it. The program should support addition, subtraction, multiplication, and division.\n",
        "\n",
        "(b) Extend the calculator to handle parentheses in mathematical expressions. Implement the necessary logic to evaluate expressions with nested parentheses.\n",
        "\n",
        "(c) Enhance your calculator to include additional mathematical operations such as exponentiation, square root, and modulus.\n",
        "\n",
        "(d) Implement error handling in the calculator program. Handle cases such as division by zero and invalid input expressions. Provide meaningful error messages.\n",
        "\n",
        "(e) Implement a command to exit the calculator."
      ],
      "metadata": {
        "id": "uzN4_hDptK9U"
      }
    },
    {
      "cell_type": "code",
      "source": [
        "import math\n",
        "\n",
        "# defining calculate function that takes a mathematical expression as an input\n",
        "def calculate(expression):\n",
        "    # error handling\n",
        "    try:\n",
        "        # evaluating the mathematical expression\n",
        "        result = eval(expression)\n",
        "        return result\n",
        "    except Exception as e:\n",
        "        return f\"Error: {e}\"\n",
        "\n",
        "# defining main function\n",
        "def main():\n",
        "    print(\"Simple Calculator\")\n",
        "    print(\"Supported operations: +, -, *, /\")\n",
        "\n",
        "    # using while loop\n",
        "    while True:\n",
        "        # taking input from the user\n",
        "        expression = input(\"Enter a mathematical expression (or type 'exit' to quit): \")\n",
        "\n",
        "        # inserting condition when user type exits\n",
        "        if expression.lower() == 'exit':\n",
        "            print(\"Goodbye!\")\n",
        "            break\n",
        "\n",
        "        # calculating the result and displaying it\n",
        "        result = calculate(expression)\n",
        "        print(f\"Result: {result}\")\n",
        "\n",
        "\n",
        "if __name__ == \"__main__\":\n",
        "    main()\n"
      ],
      "metadata": {
        "id": "8nQnVxjJuYtu",
        "colab": {
          "base_uri": "https://localhost:8080/"
        },
        "outputId": "13663713-8e11-4077-a17c-708cda42397b"
      },
      "execution_count": 35,
      "outputs": [
        {
          "output_type": "stream",
          "name": "stdout",
          "text": [
            "Simple Calculator\n",
            "Supported operations: +, -, *, /\n",
            "Enter a mathematical expression (or type 'exit' to quit): 5+4-7\n",
            "Result: 2\n",
            "Enter a mathematical expression (or type 'exit' to quit): 9*8\n",
            "Result: 72\n",
            "Enter a mathematical expression (or type 'exit' to quit): 7/2\n",
            "Result: 3.5\n",
            "Enter a mathematical expression (or type 'exit' to quit): exit\n",
            "Goodbye!\n"
          ]
        }
      ]
    },
    {
      "cell_type": "code",
      "source": [
        "# defining calculate function that takes a mathematical expression\n",
        "def calculate(expression):\n",
        "  # using try except for error handling\n",
        "    try:\n",
        "        # replacing 'sqrt' with the math.sqrt function to handle square root\n",
        "        expression = expression.replace(\"sqrt\", \"math.sqrt\")\n",
        "\n",
        "        # evaluating the mathematical expression provided by the user\n",
        "        result = eval(expression)\n",
        "\n",
        "        return result\n",
        "    # when any number divided by zero\n",
        "    except ZeroDivisionError:\n",
        "        return \"Error: Division by zero is not allowed.\"\n",
        "    # when user input inavlid expression\n",
        "    except SyntaxError:\n",
        "        return \"Error: Invalid expression. Please check the syntax.\"\n",
        "    # when user enter invalid operator\n",
        "    except NameError:\n",
        "        return \"Error: Invalid operation or variable used.\"\n",
        "    # handling exceptional condition\n",
        "    except Exception as e:\n",
        "        return f\"Error: {e}\"\n",
        "\n",
        "# defining main function\n",
        "def main():\n",
        "    print(\"Enhanced Calculator\")\n",
        "    print(\"Supported operations: +, -, *, /, ** (exponentiation), sqrt (square root), % (modulus)\")\n",
        "    while True:\n",
        "        # taking input from the user\n",
        "        expression = input(\"Enter a mathematical expression (or type 'exit' to quit): \")\n",
        "\n",
        "        if expression.lower() == 'exit':\n",
        "            print(\"Goodbye!\")\n",
        "            break\n",
        "\n",
        "        # calculating the result and displaying it\n",
        "        result = calculate(expression)\n",
        "        print(f\"Result: {result}\")\n",
        "\n",
        "if __name__ == \"__main__\":\n",
        "    main()\n"
      ],
      "metadata": {
        "colab": {
          "base_uri": "https://localhost:8080/"
        },
        "id": "287djBlxrKDb",
        "outputId": "5b1d6b18-b619-4d89-f744-84ad65e89b37"
      },
      "execution_count": 36,
      "outputs": [
        {
          "output_type": "stream",
          "name": "stdout",
          "text": [
            "Enhanced Calculator\n",
            "Supported operations: +, -, *, /, ** (exponentiation), sqrt (square root), % (modulus)\n",
            "Enter a mathematical expression (or type 'exit' to quit): sqrt(25)\n",
            "Result: 5.0\n",
            "Enter a mathematical expression (or type 'exit' to quit): 50%2\n",
            "Result: 0\n",
            "Enter a mathematical expression (or type 'exit' to quit): 50//2\n",
            "Result: 25\n",
            "Enter a mathematical expression (or type 'exit' to quit): exit\n",
            "Goodbye!\n"
          ]
        }
      ]
    },
    {
      "cell_type": "markdown",
      "metadata": {
        "id": "z3tBE7E-Xn5X"
      },
      "source": [
        "# Question 5 (20 points).\n",
        "\n",
        "In the field of Data Science, data is often formatted as a comma-delimited (CSV) file, where each line in a file corresponds to a field's value. Refer to Chapter 9 (p. 106) for more information on comma-delimited files.\n",
        "\n",
        "To answer this question, you will need to download the file [Assignment1_denton_housing.csv](https://raw.githubusercontent.com/unt-iialab/info5731-spring2022/main/assignments/Assignment1_denton_housing.csv) included with this assignment. The file contains statistics about housing in the city of Denton from 2008 to 2014. Write a program to implement the following questions.\n",
        "\n",
        "(a) (5 pts) Calculate the difference in the number of Occupied Housing Units from year to year and print it. The difference must be calculated for the consecutive years such as 2008-2009, 2009-2010 etc. Finally, print the values in the ascending order.\n",
        "\n",
        "(b) (5 pts) For all the years, calculate the percentage of housing units which are vacant an occupied. Print the results in the following format:\n",
        "\n",
        "Year Vacant Housing Units Occupied Housing Units\n",
        "\n",
        "    2008  30%   70%                          \n",
        "\t2009 ----- -----\n",
        "\t2010 ----- -----\n",
        "    2011 ----- -----\n",
        "\t2012 ----- -----\n",
        "    2013 ----- -----\n",
        "\t2014 ----- -----\n",
        "  \n",
        "  \n",
        "\n",
        "(c) (5 pts) Calculate and print the valued and years in which the highest number of housing units were vacant and occupied. Print the results in the following format:  \n",
        "\n",
        "                              Year\tValue\n",
        "\tVacant Housing Units\t  -----   -----\n",
        "\tOccupied Housing Units\t-----   -----\n",
        "\n",
        "(d) (5 pts) Calculate the harmonic mean of the total housing units and print it out. You can find the information about harmonic mean here: https://ncalculators.com/statistics/harmonic-mean-calculator.htm"
      ]
    },
    {
      "cell_type": "code",
      "execution_count": 37,
      "metadata": {
        "id": "lqGYuHBhcsRH",
        "colab": {
          "base_uri": "https://localhost:8080/",
          "height": 269
        },
        "outputId": "ed42892e-cfae-41cb-f436-6e31a7616c25"
      },
      "outputs": [
        {
          "output_type": "execute_result",
          "data": {
            "text/plain": [
              "   year  value  difference\n",
              "0  2008  36711      -795.0\n",
              "2  2010  41007      -303.0\n",
              "3  2011  40704      1404.0\n",
              "4  2012  42108      1565.0\n",
              "5  2013  43673      2622.0\n",
              "1  2009  35916      5091.0\n",
              "6  2014  46295         NaN"
            ],
            "text/html": [
              "\n",
              "  <div id=\"df-84a9c3ce-c9a9-4517-ad24-f3c8befbee26\" class=\"colab-df-container\">\n",
              "    <div>\n",
              "<style scoped>\n",
              "    .dataframe tbody tr th:only-of-type {\n",
              "        vertical-align: middle;\n",
              "    }\n",
              "\n",
              "    .dataframe tbody tr th {\n",
              "        vertical-align: top;\n",
              "    }\n",
              "\n",
              "    .dataframe thead th {\n",
              "        text-align: right;\n",
              "    }\n",
              "</style>\n",
              "<table border=\"1\" class=\"dataframe\">\n",
              "  <thead>\n",
              "    <tr style=\"text-align: right;\">\n",
              "      <th></th>\n",
              "      <th>year</th>\n",
              "      <th>value</th>\n",
              "      <th>difference</th>\n",
              "    </tr>\n",
              "  </thead>\n",
              "  <tbody>\n",
              "    <tr>\n",
              "      <th>0</th>\n",
              "      <td>2008</td>\n",
              "      <td>36711</td>\n",
              "      <td>-795.0</td>\n",
              "    </tr>\n",
              "    <tr>\n",
              "      <th>2</th>\n",
              "      <td>2010</td>\n",
              "      <td>41007</td>\n",
              "      <td>-303.0</td>\n",
              "    </tr>\n",
              "    <tr>\n",
              "      <th>3</th>\n",
              "      <td>2011</td>\n",
              "      <td>40704</td>\n",
              "      <td>1404.0</td>\n",
              "    </tr>\n",
              "    <tr>\n",
              "      <th>4</th>\n",
              "      <td>2012</td>\n",
              "      <td>42108</td>\n",
              "      <td>1565.0</td>\n",
              "    </tr>\n",
              "    <tr>\n",
              "      <th>5</th>\n",
              "      <td>2013</td>\n",
              "      <td>43673</td>\n",
              "      <td>2622.0</td>\n",
              "    </tr>\n",
              "    <tr>\n",
              "      <th>1</th>\n",
              "      <td>2009</td>\n",
              "      <td>35916</td>\n",
              "      <td>5091.0</td>\n",
              "    </tr>\n",
              "    <tr>\n",
              "      <th>6</th>\n",
              "      <td>2014</td>\n",
              "      <td>46295</td>\n",
              "      <td>NaN</td>\n",
              "    </tr>\n",
              "  </tbody>\n",
              "</table>\n",
              "</div>\n",
              "    <div class=\"colab-df-buttons\">\n",
              "\n",
              "  <div class=\"colab-df-container\">\n",
              "    <button class=\"colab-df-convert\" onclick=\"convertToInteractive('df-84a9c3ce-c9a9-4517-ad24-f3c8befbee26')\"\n",
              "            title=\"Convert this dataframe to an interactive table.\"\n",
              "            style=\"display:none;\">\n",
              "\n",
              "  <svg xmlns=\"http://www.w3.org/2000/svg\" height=\"24px\" viewBox=\"0 -960 960 960\">\n",
              "    <path d=\"M120-120v-720h720v720H120Zm60-500h600v-160H180v160Zm220 220h160v-160H400v160Zm0 220h160v-160H400v160ZM180-400h160v-160H180v160Zm440 0h160v-160H620v160ZM180-180h160v-160H180v160Zm440 0h160v-160H620v160Z\"/>\n",
              "  </svg>\n",
              "    </button>\n",
              "\n",
              "  <style>\n",
              "    .colab-df-container {\n",
              "      display:flex;\n",
              "      gap: 12px;\n",
              "    }\n",
              "\n",
              "    .colab-df-convert {\n",
              "      background-color: #E8F0FE;\n",
              "      border: none;\n",
              "      border-radius: 50%;\n",
              "      cursor: pointer;\n",
              "      display: none;\n",
              "      fill: #1967D2;\n",
              "      height: 32px;\n",
              "      padding: 0 0 0 0;\n",
              "      width: 32px;\n",
              "    }\n",
              "\n",
              "    .colab-df-convert:hover {\n",
              "      background-color: #E2EBFA;\n",
              "      box-shadow: 0px 1px 2px rgba(60, 64, 67, 0.3), 0px 1px 3px 1px rgba(60, 64, 67, 0.15);\n",
              "      fill: #174EA6;\n",
              "    }\n",
              "\n",
              "    .colab-df-buttons div {\n",
              "      margin-bottom: 4px;\n",
              "    }\n",
              "\n",
              "    [theme=dark] .colab-df-convert {\n",
              "      background-color: #3B4455;\n",
              "      fill: #D2E3FC;\n",
              "    }\n",
              "\n",
              "    [theme=dark] .colab-df-convert:hover {\n",
              "      background-color: #434B5C;\n",
              "      box-shadow: 0px 1px 3px 1px rgba(0, 0, 0, 0.15);\n",
              "      filter: drop-shadow(0px 1px 2px rgba(0, 0, 0, 0.3));\n",
              "      fill: #FFFFFF;\n",
              "    }\n",
              "  </style>\n",
              "\n",
              "    <script>\n",
              "      const buttonEl =\n",
              "        document.querySelector('#df-84a9c3ce-c9a9-4517-ad24-f3c8befbee26 button.colab-df-convert');\n",
              "      buttonEl.style.display =\n",
              "        google.colab.kernel.accessAllowed ? 'block' : 'none';\n",
              "\n",
              "      async function convertToInteractive(key) {\n",
              "        const element = document.querySelector('#df-84a9c3ce-c9a9-4517-ad24-f3c8befbee26');\n",
              "        const dataTable =\n",
              "          await google.colab.kernel.invokeFunction('convertToInteractive',\n",
              "                                                    [key], {});\n",
              "        if (!dataTable) return;\n",
              "\n",
              "        const docLinkHtml = 'Like what you see? Visit the ' +\n",
              "          '<a target=\"_blank\" href=https://colab.research.google.com/notebooks/data_table.ipynb>data table notebook</a>'\n",
              "          + ' to learn more about interactive tables.';\n",
              "        element.innerHTML = '';\n",
              "        dataTable['output_type'] = 'display_data';\n",
              "        await google.colab.output.renderOutput(dataTable, element);\n",
              "        const docLink = document.createElement('div');\n",
              "        docLink.innerHTML = docLinkHtml;\n",
              "        element.appendChild(docLink);\n",
              "      }\n",
              "    </script>\n",
              "  </div>\n",
              "\n",
              "\n",
              "<div id=\"df-da127d3d-60e3-4fe0-9abf-0865f40572d6\">\n",
              "  <button class=\"colab-df-quickchart\" onclick=\"quickchart('df-da127d3d-60e3-4fe0-9abf-0865f40572d6')\"\n",
              "            title=\"Suggest charts\"\n",
              "            style=\"display:none;\">\n",
              "\n",
              "<svg xmlns=\"http://www.w3.org/2000/svg\" height=\"24px\"viewBox=\"0 0 24 24\"\n",
              "     width=\"24px\">\n",
              "    <g>\n",
              "        <path d=\"M19 3H5c-1.1 0-2 .9-2 2v14c0 1.1.9 2 2 2h14c1.1 0 2-.9 2-2V5c0-1.1-.9-2-2-2zM9 17H7v-7h2v7zm4 0h-2V7h2v10zm4 0h-2v-4h2v4z\"/>\n",
              "    </g>\n",
              "</svg>\n",
              "  </button>\n",
              "\n",
              "<style>\n",
              "  .colab-df-quickchart {\n",
              "      --bg-color: #E8F0FE;\n",
              "      --fill-color: #1967D2;\n",
              "      --hover-bg-color: #E2EBFA;\n",
              "      --hover-fill-color: #174EA6;\n",
              "      --disabled-fill-color: #AAA;\n",
              "      --disabled-bg-color: #DDD;\n",
              "  }\n",
              "\n",
              "  [theme=dark] .colab-df-quickchart {\n",
              "      --bg-color: #3B4455;\n",
              "      --fill-color: #D2E3FC;\n",
              "      --hover-bg-color: #434B5C;\n",
              "      --hover-fill-color: #FFFFFF;\n",
              "      --disabled-bg-color: #3B4455;\n",
              "      --disabled-fill-color: #666;\n",
              "  }\n",
              "\n",
              "  .colab-df-quickchart {\n",
              "    background-color: var(--bg-color);\n",
              "    border: none;\n",
              "    border-radius: 50%;\n",
              "    cursor: pointer;\n",
              "    display: none;\n",
              "    fill: var(--fill-color);\n",
              "    height: 32px;\n",
              "    padding: 0;\n",
              "    width: 32px;\n",
              "  }\n",
              "\n",
              "  .colab-df-quickchart:hover {\n",
              "    background-color: var(--hover-bg-color);\n",
              "    box-shadow: 0 1px 2px rgba(60, 64, 67, 0.3), 0 1px 3px 1px rgba(60, 64, 67, 0.15);\n",
              "    fill: var(--button-hover-fill-color);\n",
              "  }\n",
              "\n",
              "  .colab-df-quickchart-complete:disabled,\n",
              "  .colab-df-quickchart-complete:disabled:hover {\n",
              "    background-color: var(--disabled-bg-color);\n",
              "    fill: var(--disabled-fill-color);\n",
              "    box-shadow: none;\n",
              "  }\n",
              "\n",
              "  .colab-df-spinner {\n",
              "    border: 2px solid var(--fill-color);\n",
              "    border-color: transparent;\n",
              "    border-bottom-color: var(--fill-color);\n",
              "    animation:\n",
              "      spin 1s steps(1) infinite;\n",
              "  }\n",
              "\n",
              "  @keyframes spin {\n",
              "    0% {\n",
              "      border-color: transparent;\n",
              "      border-bottom-color: var(--fill-color);\n",
              "      border-left-color: var(--fill-color);\n",
              "    }\n",
              "    20% {\n",
              "      border-color: transparent;\n",
              "      border-left-color: var(--fill-color);\n",
              "      border-top-color: var(--fill-color);\n",
              "    }\n",
              "    30% {\n",
              "      border-color: transparent;\n",
              "      border-left-color: var(--fill-color);\n",
              "      border-top-color: var(--fill-color);\n",
              "      border-right-color: var(--fill-color);\n",
              "    }\n",
              "    40% {\n",
              "      border-color: transparent;\n",
              "      border-right-color: var(--fill-color);\n",
              "      border-top-color: var(--fill-color);\n",
              "    }\n",
              "    60% {\n",
              "      border-color: transparent;\n",
              "      border-right-color: var(--fill-color);\n",
              "    }\n",
              "    80% {\n",
              "      border-color: transparent;\n",
              "      border-right-color: var(--fill-color);\n",
              "      border-bottom-color: var(--fill-color);\n",
              "    }\n",
              "    90% {\n",
              "      border-color: transparent;\n",
              "      border-bottom-color: var(--fill-color);\n",
              "    }\n",
              "  }\n",
              "</style>\n",
              "\n",
              "  <script>\n",
              "    async function quickchart(key) {\n",
              "      const quickchartButtonEl =\n",
              "        document.querySelector('#' + key + ' button');\n",
              "      quickchartButtonEl.disabled = true;  // To prevent multiple clicks.\n",
              "      quickchartButtonEl.classList.add('colab-df-spinner');\n",
              "      try {\n",
              "        const charts = await google.colab.kernel.invokeFunction(\n",
              "            'suggestCharts', [key], {});\n",
              "      } catch (error) {\n",
              "        console.error('Error during call to suggestCharts:', error);\n",
              "      }\n",
              "      quickchartButtonEl.classList.remove('colab-df-spinner');\n",
              "      quickchartButtonEl.classList.add('colab-df-quickchart-complete');\n",
              "    }\n",
              "    (() => {\n",
              "      let quickchartButtonEl =\n",
              "        document.querySelector('#df-da127d3d-60e3-4fe0-9abf-0865f40572d6 button');\n",
              "      quickchartButtonEl.style.display =\n",
              "        google.colab.kernel.accessAllowed ? 'block' : 'none';\n",
              "    })();\n",
              "  </script>\n",
              "</div>\n",
              "\n",
              "  <div id=\"id_7a0dadf4-7df4-4981-8976-24c830e3081b\">\n",
              "    <style>\n",
              "      .colab-df-generate {\n",
              "        background-color: #E8F0FE;\n",
              "        border: none;\n",
              "        border-radius: 50%;\n",
              "        cursor: pointer;\n",
              "        display: none;\n",
              "        fill: #1967D2;\n",
              "        height: 32px;\n",
              "        padding: 0 0 0 0;\n",
              "        width: 32px;\n",
              "      }\n",
              "\n",
              "      .colab-df-generate:hover {\n",
              "        background-color: #E2EBFA;\n",
              "        box-shadow: 0px 1px 2px rgba(60, 64, 67, 0.3), 0px 1px 3px 1px rgba(60, 64, 67, 0.15);\n",
              "        fill: #174EA6;\n",
              "      }\n",
              "\n",
              "      [theme=dark] .colab-df-generate {\n",
              "        background-color: #3B4455;\n",
              "        fill: #D2E3FC;\n",
              "      }\n",
              "\n",
              "      [theme=dark] .colab-df-generate:hover {\n",
              "        background-color: #434B5C;\n",
              "        box-shadow: 0px 1px 3px 1px rgba(0, 0, 0, 0.15);\n",
              "        filter: drop-shadow(0px 1px 2px rgba(0, 0, 0, 0.3));\n",
              "        fill: #FFFFFF;\n",
              "      }\n",
              "    </style>\n",
              "    <button class=\"colab-df-generate\" onclick=\"generateWithVariable('occupied_housing_unit')\"\n",
              "            title=\"Generate code using this dataframe.\"\n",
              "            style=\"display:none;\">\n",
              "\n",
              "  <svg xmlns=\"http://www.w3.org/2000/svg\" height=\"24px\"viewBox=\"0 0 24 24\"\n",
              "       width=\"24px\">\n",
              "    <path d=\"M7,19H8.4L18.45,9,17,7.55,7,17.6ZM5,21V16.75L18.45,3.32a2,2,0,0,1,2.83,0l1.4,1.43a1.91,1.91,0,0,1,.58,1.4,1.91,1.91,0,0,1-.58,1.4L9.25,21ZM18.45,9,17,7.55Zm-12,3A5.31,5.31,0,0,0,4.9,8.1,5.31,5.31,0,0,0,1,6.5,5.31,5.31,0,0,0,4.9,4.9,5.31,5.31,0,0,0,6.5,1,5.31,5.31,0,0,0,8.1,4.9,5.31,5.31,0,0,0,12,6.5,5.46,5.46,0,0,0,6.5,12Z\"/>\n",
              "  </svg>\n",
              "    </button>\n",
              "    <script>\n",
              "      (() => {\n",
              "      const buttonEl =\n",
              "        document.querySelector('#id_7a0dadf4-7df4-4981-8976-24c830e3081b button.colab-df-generate');\n",
              "      buttonEl.style.display =\n",
              "        google.colab.kernel.accessAllowed ? 'block' : 'none';\n",
              "\n",
              "      buttonEl.onclick = () => {\n",
              "        google.colab.notebook.generateWithVariable('occupied_housing_unit');\n",
              "      }\n",
              "      })();\n",
              "    </script>\n",
              "  </div>\n",
              "\n",
              "    </div>\n",
              "  </div>\n"
            ],
            "application/vnd.google.colaboratory.intrinsic+json": {
              "type": "dataframe",
              "variable_name": "occupied_housing_unit",
              "summary": "{\n  \"name\": \"occupied_housing_unit\",\n  \"rows\": 7,\n  \"fields\": [\n    {\n      \"column\": \"year\",\n      \"properties\": {\n        \"dtype\": \"number\",\n        \"std\": 2,\n        \"min\": 2008,\n        \"max\": 2014,\n        \"num_unique_values\": 7,\n        \"samples\": [\n          2008,\n          2010,\n          2009\n        ],\n        \"semantic_type\": \"\",\n        \"description\": \"\"\n      }\n    },\n    {\n      \"column\": \"value\",\n      \"properties\": {\n        \"dtype\": \"number\",\n        \"std\": 3667,\n        \"min\": 35916,\n        \"max\": 46295,\n        \"num_unique_values\": 7,\n        \"samples\": [\n          36711,\n          41007,\n          35916\n        ],\n        \"semantic_type\": \"\",\n        \"description\": \"\"\n      }\n    },\n    {\n      \"column\": \"difference\",\n      \"properties\": {\n        \"dtype\": \"number\",\n        \"std\": 2127.37384271469,\n        \"min\": -795.0,\n        \"max\": 5091.0,\n        \"num_unique_values\": 6,\n        \"samples\": [\n          -795.0,\n          -303.0,\n          5091.0\n        ],\n        \"semantic_type\": \"\",\n        \"description\": \"\"\n      }\n    }\n  ]\n}"
            }
          },
          "metadata": {},
          "execution_count": 37
        }
      ],
      "source": [
        "# import pandas and numpy as data library\n",
        "import pandas as pd\n",
        "import numpy as np\n",
        "\n",
        "# reading the csv file from given link\n",
        "denton_housing = pd.read_csv('https://raw.githubusercontent.com/unt-iialab/info5731-spring2022/main/assignments/Assignment1_denton_housing.csv')\n",
        "\n",
        "# filtering occupied housing units from title_field and fetching values and year\n",
        "occupied_housing_units = denton_housing[denton_housing['title_field'] == 'Occupied Housing Units'][['year', 'value']]\n",
        "\n",
        "# sorting value by year\n",
        "occupied_housing_units = occupied_housing_units.sort_values(by = 'year')\n",
        "\n",
        "# calculating the difference and shifting data upward by one row\n",
        "occupied_housing_units['difference'] = occupied_housing_units['value'].shift(-1) - occupied_housing_units['value']\n",
        "\n",
        "# resetting and dropping index\n",
        "occupied_housing_units = occupied_housing_units.reset_index(drop = True)\n",
        "\n",
        "# sorting the difference in ascending order\n",
        "occupied_housing_unit = occupied_housing_units.sort_values(by = 'difference', ascending = True)\n",
        "occupied_housing_unit\n"
      ]
    },
    {
      "cell_type": "code",
      "source": [
        "# filtering vacant housing units from title_field and fetching values and year\n",
        "vacant_housing_units = denton_housing[denton_housing['title_field'] == 'Vacant Housing Units'][['year','value']].rename(columns={'value': 'vacant'})\n",
        "\n",
        "# sorting value by year\n",
        "vacant_housing_units = vacant_housing_units.sort_values(by = 'year')\n",
        "\n",
        "# filtering occupied housing units from title_field and fetching values and year\n",
        "occupied_housing = denton_housing[denton_housing['title_field'] =='Occupied Housing Units'][['year', 'value']].rename(columns={'value': 'occupied'})\n",
        "\n",
        "# sorting value by year\n",
        "occupied_housing = occupied_housing.sort_values(by ='year')\n",
        "\n",
        "# filtering total housing units from title_field and fetching values and year\n",
        "total_housing = denton_housing[denton_housing['title_field'] == 'Total Housing Units'][['year','value']].rename(columns={'value': 'total'})\n",
        "\n",
        "# sorting value by year\n",
        "total_housing = total_housing.sort_values(by = 'year')\n",
        "\n",
        "# merging column by merging vacant housing units and occupied housing units\n",
        "merge_column = total_housing.merge(vacant_housing_units, on = 'year').merge(occupied_housing, on = 'year')\n",
        "\n",
        "# calculating the percentage of housing units\n",
        "merge_column['Vacant Housing Units'] = (merge_column['vacant']/merge_column['total'])*100\n",
        "merge_column['Occupied Housing Units'] = (merge_column['occupied']/merge_column['total'])*100\n",
        "merge_column[['year','Vacant Housing Units', 'Occupied Housing Units']]"
      ],
      "metadata": {
        "id": "ovaEZR11stXg",
        "colab": {
          "base_uri": "https://localhost:8080/",
          "height": 269
        },
        "outputId": "a4685ad4-3d5e-42b2-8164-830fbd566f85"
      },
      "execution_count": 38,
      "outputs": [
        {
          "output_type": "execute_result",
          "data": {
            "text/plain": [
              "   year  Vacant Housing Units  Occupied Housing Units\n",
              "0  2008             10.882653               89.117347\n",
              "1  2009              9.071116               90.928884\n",
              "2  2010              8.142556               91.857444\n",
              "3  2011              9.379522               90.620478\n",
              "4  2012              6.677600               93.322400\n",
              "5  2013              8.801788               91.198212\n",
              "6  2014              5.730111               94.269889"
            ],
            "text/html": [
              "\n",
              "  <div id=\"df-1cfe7c74-17ee-430a-a486-de2d2e1bdf58\" class=\"colab-df-container\">\n",
              "    <div>\n",
              "<style scoped>\n",
              "    .dataframe tbody tr th:only-of-type {\n",
              "        vertical-align: middle;\n",
              "    }\n",
              "\n",
              "    .dataframe tbody tr th {\n",
              "        vertical-align: top;\n",
              "    }\n",
              "\n",
              "    .dataframe thead th {\n",
              "        text-align: right;\n",
              "    }\n",
              "</style>\n",
              "<table border=\"1\" class=\"dataframe\">\n",
              "  <thead>\n",
              "    <tr style=\"text-align: right;\">\n",
              "      <th></th>\n",
              "      <th>year</th>\n",
              "      <th>Vacant Housing Units</th>\n",
              "      <th>Occupied Housing Units</th>\n",
              "    </tr>\n",
              "  </thead>\n",
              "  <tbody>\n",
              "    <tr>\n",
              "      <th>0</th>\n",
              "      <td>2008</td>\n",
              "      <td>10.882653</td>\n",
              "      <td>89.117347</td>\n",
              "    </tr>\n",
              "    <tr>\n",
              "      <th>1</th>\n",
              "      <td>2009</td>\n",
              "      <td>9.071116</td>\n",
              "      <td>90.928884</td>\n",
              "    </tr>\n",
              "    <tr>\n",
              "      <th>2</th>\n",
              "      <td>2010</td>\n",
              "      <td>8.142556</td>\n",
              "      <td>91.857444</td>\n",
              "    </tr>\n",
              "    <tr>\n",
              "      <th>3</th>\n",
              "      <td>2011</td>\n",
              "      <td>9.379522</td>\n",
              "      <td>90.620478</td>\n",
              "    </tr>\n",
              "    <tr>\n",
              "      <th>4</th>\n",
              "      <td>2012</td>\n",
              "      <td>6.677600</td>\n",
              "      <td>93.322400</td>\n",
              "    </tr>\n",
              "    <tr>\n",
              "      <th>5</th>\n",
              "      <td>2013</td>\n",
              "      <td>8.801788</td>\n",
              "      <td>91.198212</td>\n",
              "    </tr>\n",
              "    <tr>\n",
              "      <th>6</th>\n",
              "      <td>2014</td>\n",
              "      <td>5.730111</td>\n",
              "      <td>94.269889</td>\n",
              "    </tr>\n",
              "  </tbody>\n",
              "</table>\n",
              "</div>\n",
              "    <div class=\"colab-df-buttons\">\n",
              "\n",
              "  <div class=\"colab-df-container\">\n",
              "    <button class=\"colab-df-convert\" onclick=\"convertToInteractive('df-1cfe7c74-17ee-430a-a486-de2d2e1bdf58')\"\n",
              "            title=\"Convert this dataframe to an interactive table.\"\n",
              "            style=\"display:none;\">\n",
              "\n",
              "  <svg xmlns=\"http://www.w3.org/2000/svg\" height=\"24px\" viewBox=\"0 -960 960 960\">\n",
              "    <path d=\"M120-120v-720h720v720H120Zm60-500h600v-160H180v160Zm220 220h160v-160H400v160Zm0 220h160v-160H400v160ZM180-400h160v-160H180v160Zm440 0h160v-160H620v160ZM180-180h160v-160H180v160Zm440 0h160v-160H620v160Z\"/>\n",
              "  </svg>\n",
              "    </button>\n",
              "\n",
              "  <style>\n",
              "    .colab-df-container {\n",
              "      display:flex;\n",
              "      gap: 12px;\n",
              "    }\n",
              "\n",
              "    .colab-df-convert {\n",
              "      background-color: #E8F0FE;\n",
              "      border: none;\n",
              "      border-radius: 50%;\n",
              "      cursor: pointer;\n",
              "      display: none;\n",
              "      fill: #1967D2;\n",
              "      height: 32px;\n",
              "      padding: 0 0 0 0;\n",
              "      width: 32px;\n",
              "    }\n",
              "\n",
              "    .colab-df-convert:hover {\n",
              "      background-color: #E2EBFA;\n",
              "      box-shadow: 0px 1px 2px rgba(60, 64, 67, 0.3), 0px 1px 3px 1px rgba(60, 64, 67, 0.15);\n",
              "      fill: #174EA6;\n",
              "    }\n",
              "\n",
              "    .colab-df-buttons div {\n",
              "      margin-bottom: 4px;\n",
              "    }\n",
              "\n",
              "    [theme=dark] .colab-df-convert {\n",
              "      background-color: #3B4455;\n",
              "      fill: #D2E3FC;\n",
              "    }\n",
              "\n",
              "    [theme=dark] .colab-df-convert:hover {\n",
              "      background-color: #434B5C;\n",
              "      box-shadow: 0px 1px 3px 1px rgba(0, 0, 0, 0.15);\n",
              "      filter: drop-shadow(0px 1px 2px rgba(0, 0, 0, 0.3));\n",
              "      fill: #FFFFFF;\n",
              "    }\n",
              "  </style>\n",
              "\n",
              "    <script>\n",
              "      const buttonEl =\n",
              "        document.querySelector('#df-1cfe7c74-17ee-430a-a486-de2d2e1bdf58 button.colab-df-convert');\n",
              "      buttonEl.style.display =\n",
              "        google.colab.kernel.accessAllowed ? 'block' : 'none';\n",
              "\n",
              "      async function convertToInteractive(key) {\n",
              "        const element = document.querySelector('#df-1cfe7c74-17ee-430a-a486-de2d2e1bdf58');\n",
              "        const dataTable =\n",
              "          await google.colab.kernel.invokeFunction('convertToInteractive',\n",
              "                                                    [key], {});\n",
              "        if (!dataTable) return;\n",
              "\n",
              "        const docLinkHtml = 'Like what you see? Visit the ' +\n",
              "          '<a target=\"_blank\" href=https://colab.research.google.com/notebooks/data_table.ipynb>data table notebook</a>'\n",
              "          + ' to learn more about interactive tables.';\n",
              "        element.innerHTML = '';\n",
              "        dataTable['output_type'] = 'display_data';\n",
              "        await google.colab.output.renderOutput(dataTable, element);\n",
              "        const docLink = document.createElement('div');\n",
              "        docLink.innerHTML = docLinkHtml;\n",
              "        element.appendChild(docLink);\n",
              "      }\n",
              "    </script>\n",
              "  </div>\n",
              "\n",
              "\n",
              "<div id=\"df-65a7bd24-deba-47d9-a3d3-8c3728e7659f\">\n",
              "  <button class=\"colab-df-quickchart\" onclick=\"quickchart('df-65a7bd24-deba-47d9-a3d3-8c3728e7659f')\"\n",
              "            title=\"Suggest charts\"\n",
              "            style=\"display:none;\">\n",
              "\n",
              "<svg xmlns=\"http://www.w3.org/2000/svg\" height=\"24px\"viewBox=\"0 0 24 24\"\n",
              "     width=\"24px\">\n",
              "    <g>\n",
              "        <path d=\"M19 3H5c-1.1 0-2 .9-2 2v14c0 1.1.9 2 2 2h14c1.1 0 2-.9 2-2V5c0-1.1-.9-2-2-2zM9 17H7v-7h2v7zm4 0h-2V7h2v10zm4 0h-2v-4h2v4z\"/>\n",
              "    </g>\n",
              "</svg>\n",
              "  </button>\n",
              "\n",
              "<style>\n",
              "  .colab-df-quickchart {\n",
              "      --bg-color: #E8F0FE;\n",
              "      --fill-color: #1967D2;\n",
              "      --hover-bg-color: #E2EBFA;\n",
              "      --hover-fill-color: #174EA6;\n",
              "      --disabled-fill-color: #AAA;\n",
              "      --disabled-bg-color: #DDD;\n",
              "  }\n",
              "\n",
              "  [theme=dark] .colab-df-quickchart {\n",
              "      --bg-color: #3B4455;\n",
              "      --fill-color: #D2E3FC;\n",
              "      --hover-bg-color: #434B5C;\n",
              "      --hover-fill-color: #FFFFFF;\n",
              "      --disabled-bg-color: #3B4455;\n",
              "      --disabled-fill-color: #666;\n",
              "  }\n",
              "\n",
              "  .colab-df-quickchart {\n",
              "    background-color: var(--bg-color);\n",
              "    border: none;\n",
              "    border-radius: 50%;\n",
              "    cursor: pointer;\n",
              "    display: none;\n",
              "    fill: var(--fill-color);\n",
              "    height: 32px;\n",
              "    padding: 0;\n",
              "    width: 32px;\n",
              "  }\n",
              "\n",
              "  .colab-df-quickchart:hover {\n",
              "    background-color: var(--hover-bg-color);\n",
              "    box-shadow: 0 1px 2px rgba(60, 64, 67, 0.3), 0 1px 3px 1px rgba(60, 64, 67, 0.15);\n",
              "    fill: var(--button-hover-fill-color);\n",
              "  }\n",
              "\n",
              "  .colab-df-quickchart-complete:disabled,\n",
              "  .colab-df-quickchart-complete:disabled:hover {\n",
              "    background-color: var(--disabled-bg-color);\n",
              "    fill: var(--disabled-fill-color);\n",
              "    box-shadow: none;\n",
              "  }\n",
              "\n",
              "  .colab-df-spinner {\n",
              "    border: 2px solid var(--fill-color);\n",
              "    border-color: transparent;\n",
              "    border-bottom-color: var(--fill-color);\n",
              "    animation:\n",
              "      spin 1s steps(1) infinite;\n",
              "  }\n",
              "\n",
              "  @keyframes spin {\n",
              "    0% {\n",
              "      border-color: transparent;\n",
              "      border-bottom-color: var(--fill-color);\n",
              "      border-left-color: var(--fill-color);\n",
              "    }\n",
              "    20% {\n",
              "      border-color: transparent;\n",
              "      border-left-color: var(--fill-color);\n",
              "      border-top-color: var(--fill-color);\n",
              "    }\n",
              "    30% {\n",
              "      border-color: transparent;\n",
              "      border-left-color: var(--fill-color);\n",
              "      border-top-color: var(--fill-color);\n",
              "      border-right-color: var(--fill-color);\n",
              "    }\n",
              "    40% {\n",
              "      border-color: transparent;\n",
              "      border-right-color: var(--fill-color);\n",
              "      border-top-color: var(--fill-color);\n",
              "    }\n",
              "    60% {\n",
              "      border-color: transparent;\n",
              "      border-right-color: var(--fill-color);\n",
              "    }\n",
              "    80% {\n",
              "      border-color: transparent;\n",
              "      border-right-color: var(--fill-color);\n",
              "      border-bottom-color: var(--fill-color);\n",
              "    }\n",
              "    90% {\n",
              "      border-color: transparent;\n",
              "      border-bottom-color: var(--fill-color);\n",
              "    }\n",
              "  }\n",
              "</style>\n",
              "\n",
              "  <script>\n",
              "    async function quickchart(key) {\n",
              "      const quickchartButtonEl =\n",
              "        document.querySelector('#' + key + ' button');\n",
              "      quickchartButtonEl.disabled = true;  // To prevent multiple clicks.\n",
              "      quickchartButtonEl.classList.add('colab-df-spinner');\n",
              "      try {\n",
              "        const charts = await google.colab.kernel.invokeFunction(\n",
              "            'suggestCharts', [key], {});\n",
              "      } catch (error) {\n",
              "        console.error('Error during call to suggestCharts:', error);\n",
              "      }\n",
              "      quickchartButtonEl.classList.remove('colab-df-spinner');\n",
              "      quickchartButtonEl.classList.add('colab-df-quickchart-complete');\n",
              "    }\n",
              "    (() => {\n",
              "      let quickchartButtonEl =\n",
              "        document.querySelector('#df-65a7bd24-deba-47d9-a3d3-8c3728e7659f button');\n",
              "      quickchartButtonEl.style.display =\n",
              "        google.colab.kernel.accessAllowed ? 'block' : 'none';\n",
              "    })();\n",
              "  </script>\n",
              "</div>\n",
              "\n",
              "    </div>\n",
              "  </div>\n"
            ],
            "application/vnd.google.colaboratory.intrinsic+json": {
              "type": "dataframe",
              "summary": "{\n  \"name\": \"merge_column[['year','Vacant Housing Units', 'Occupied Housing Units']]\",\n  \"rows\": 7,\n  \"fields\": [\n    {\n      \"column\": \"year\",\n      \"properties\": {\n        \"dtype\": \"number\",\n        \"std\": 2,\n        \"min\": 2008,\n        \"max\": 2014,\n        \"num_unique_values\": 7,\n        \"samples\": [\n          2008,\n          2009,\n          2013\n        ],\n        \"semantic_type\": \"\",\n        \"description\": \"\"\n      }\n    },\n    {\n      \"column\": \"Vacant Housing Units\",\n      \"properties\": {\n        \"dtype\": \"number\",\n        \"std\": 1.7269543578178104,\n        \"min\": 5.730110570363885,\n        \"max\": 10.88265281351653,\n        \"num_unique_values\": 7,\n        \"samples\": [\n          10.88265281351653,\n          9.07111572444872,\n          8.801787504176412\n        ],\n        \"semantic_type\": \"\",\n        \"description\": \"\"\n      }\n    },\n    {\n      \"column\": \"Occupied Housing Units\",\n      \"properties\": {\n        \"dtype\": \"number\",\n        \"std\": 1.7269543578178108,\n        \"min\": 89.11734718648347,\n        \"max\": 94.26988942963611,\n        \"num_unique_values\": 7,\n        \"samples\": [\n          89.11734718648347,\n          90.92888427555128,\n          91.19821249582358\n        ],\n        \"semantic_type\": \"\",\n        \"description\": \"\"\n      }\n    }\n  ]\n}"
            }
          },
          "metadata": {},
          "execution_count": 38
        }
      ]
    },
    {
      "cell_type": "code",
      "source": [
        "# from merge_column, finding the max value for Vacant Housing Units\n",
        "max_vacant_value =  merge_column[merge_column['Vacant Housing Units'] == merge_column['Vacant Housing Units'].max()]\n",
        "\n",
        "# from merge_column, finding the max value for Occupied Housing Units\n",
        "max_occupied_value = merge_column[merge_column['Occupied Housing Units'] == merge_column['Occupied Housing Units'].max()]\n",
        "\n",
        "# filtering the max_vacant_value by year and vacant , then renaming vacant to value\n",
        "max_vacant_value = max_vacant_value[['year', 'vacant']].rename(columns ={'vacant':'value'})\n",
        "\n",
        "# filtering the max_occupied_value by year and occupied , then renaming occupied to value\n",
        "max_occupied_value = max_occupied_value[['year','occupied']].rename(columns ={'occupied':'value'})\n",
        "\n",
        "# printing the value using padding and formatting and extracting the value from the column of the first row\n",
        "print(\"{:<25} {:<5} {:<5}\".format(\"\", \"Year\", \"Value\"))\n",
        "print(\"{:<25} {:<5} {:.6f}\".format(\"Vacant Housing Units\", max_vacant_value.iloc[0]['year'], max_vacant_value.iloc[0]['value']))\n",
        "print(\"{:<25} {:<5} {:.6f}\".format(\"Occupied Housing Units\", max_occupied_value.iloc[0]['year'], max_occupied_value.iloc[0]['value']))"
      ],
      "metadata": {
        "id": "6PN0ETs-tJCx",
        "colab": {
          "base_uri": "https://localhost:8080/"
        },
        "outputId": "92dc773b-7c5a-49d0-a38d-4cfb9bd79ca6"
      },
      "execution_count": 39,
      "outputs": [
        {
          "output_type": "stream",
          "name": "stdout",
          "text": [
            "                          Year  Value\n",
            "Vacant Housing Units      2008  4483.000000\n",
            "Occupied Housing Units    2014  46295.000000\n"
          ]
        }
      ]
    },
    {
      "cell_type": "code",
      "source": [
        "import statistics\n",
        "import pandas as pd\n",
        "\n",
        "# reading the csv file from given link\n",
        "denton_housing = pd.read_csv('https://raw.githubusercontent.com/unt-iialab/info5731-spring2022/main/assignments/Assignment1_denton_housing.csv')\n",
        "\n",
        "# filtering total housing from title field\n",
        "total_housing = denton_housing[denton_housing['title_field'] == 'Total Housing Units']\n",
        "\n",
        "# extracting the total housing units as a list\n",
        "housing_data = total_housing['value'].tolist()\n",
        "\n",
        "# calculating harmonic mean\n",
        "harmonic_mean = statistics.harmonic_mean(housing_data)\n",
        "print('Harmonic mean of Total Housing Unit is:',harmonic_mean)\n",
        "\n"
      ],
      "metadata": {
        "id": "-iJaCuG8hiZc",
        "colab": {
          "base_uri": "https://localhost:8080/"
        },
        "outputId": "1b44fbe4-23b2-4dcf-a401-b54e41a20e5b"
      },
      "execution_count": 40,
      "outputs": [
        {
          "output_type": "stream",
          "name": "stdout",
          "text": [
            "Harmonic mean of Total Housing Unit is: 44398.28543969185\n"
          ]
        }
      ]
    },
    {
      "cell_type": "markdown",
      "source": [
        "# **For question 6 and 7 you can take AI assitance to solve.**\n",
        "\n",
        "Make sure you follow the instructions given in class to answer these questions.\n",
        "\n",
        "\n",
        "**Important points:**\n",
        "\n",
        "1.   You must come up with at least 10 edge cases.\n",
        "2.   You should provide prompts and revised prompts given to ChatGPT.\n",
        "2.   Debug your code and write comments for each block of code\n",
        "3.   Analyzing error will not consider as edge case.\n",
        "\n",
        "Edge cases are like real life scienarios which are realated to the given question."
      ],
      "metadata": {
        "id": "DB9XtkavJmsO"
      }
    },
    {
      "cell_type": "markdown",
      "source": [
        "# Question 6 (20 points).\n",
        "Develop a advance Python program to manage inventory records for a prodcut managing company. The system needs functions for adding, deleting and changing products and basic search options. Your system should use CSV files to automate restocking and produce reports that show item values alongside category breakdowns. Manage edge cases and corrupted CSV files. Finally maintaine 50 products of different categories in inventory."
      ],
      "metadata": {
        "id": "BAfp-70D2Cay"
      }
    },
    {
      "cell_type": "markdown",
      "source": [
        "**PROMPT:1** Write a Python program that creates an inventory CSV file.The program should define multiple product categories (Electronics, Clothing, Groceries, Furniture, and Stationery) with a list of sample product names. Each product should have a unique ID, a random quantity (between 5 and 50), and a random price (between $5 and $500). The data should be written to a CSV file named 'inventory.csv' with appropriate headers.\n"
      ],
      "metadata": {
        "id": "p_91iP1gSYcb"
      }
    },
    {
      "cell_type": "code",
      "source": [
        "import csv\n",
        "import random\n",
        "\n",
        "# Define product categories and sample products\n",
        "categories = {\n",
        "    'Electronics': ['Laptop', 'Smartphone', 'Headphones', 'Smartwatch', 'Camera'],\n",
        "    'Clothing': ['T-shirt', 'Jeans', 'Jacket', 'Shoes', 'Sweater'],\n",
        "    'Groceries': ['Rice', 'Bread', 'Milk', 'Eggs', 'Apple'],\n",
        "    'Furniture': ['Sofa', 'Chair', 'Table', 'Bed', 'Bookshelf'],\n",
        "    'Stationery': ['Pen', 'Notebook', 'Pencil', 'Eraser', 'Highlighter']\n",
        "}\n",
        "\n",
        "# Create a list to store product data\n",
        "inventory = []\n",
        "\n",
        "# Generate data for each category\n",
        "product_id = 1\n",
        "for category, products in categories.items():\n",
        "    for product in products:\n",
        "        # Randomly generate quantity and price\n",
        "        quantity = random.randint(5, 50)\n",
        "        price = round(random.uniform(5, 500), 2)\n",
        "\n",
        "        # Add product to inventory list\n",
        "        inventory.append([product_id, category, product, quantity, price])\n",
        "\n",
        "        # Increment product ID for next product\n",
        "        product_id += 1\n",
        "\n",
        "# Define header for CSV file\n",
        "header = ['Product ID', 'Category', 'Product Name', 'Quantity', 'Price']\n",
        "\n",
        "# Write the inventory data to a CSV file with single quotes\n",
        "with open('inventory.csv', mode='w', newline='') as file:\n",
        "    writer = csv.writer(file, quotechar=\"'\", quoting=csv.QUOTE_MINIMAL)\n",
        "\n",
        "    # Write the header\n",
        "    writer.writerow(header)\n",
        "\n",
        "    # Write the product data\n",
        "    writer.writerows(inventory)\n",
        "\n",
        "print('Inventory CSV file created successfully!')\n"
      ],
      "metadata": {
        "id": "w8dE2dJb2quE",
        "colab": {
          "base_uri": "https://localhost:8080/"
        },
        "outputId": "1e6792d3-096e-4495-ac83-58c13611eef4"
      },
      "execution_count": 41,
      "outputs": [
        {
          "output_type": "stream",
          "name": "stdout",
          "text": [
            "Inventory CSV file created successfully!\n"
          ]
        }
      ]
    },
    {
      "cell_type": "markdown",
      "source": [
        "**Prompt:2** Now, write a python code where the system needs to use functions for adding products, check if the product already exists or if there's empty fields."
      ],
      "metadata": {
        "id": "jCZRC9YeVQdW"
      }
    },
    {
      "cell_type": "code",
      "source": [
        "# Function to display the inventory\n",
        "def display_inventory(inventory):\n",
        "    print(\"Current Inventory:\")\n",
        "    for product in inventory:\n",
        "        print(f\"ID: {product[0]}, Category: {product[1]}, Product Name: {product[2]}, Quantity: {product[3]}, Price: ${product[4]}\")\n",
        "\n",
        "# Function to update the quantity of a product\n",
        "def update_quantity(product_id, quantity, inventory):\n",
        "    for product in inventory:\n",
        "        if product[0] == product_id:\n",
        "            product[3] = quantity\n",
        "            print(f\"Quantity of product ID {product_id} updated to {quantity}.\")\n",
        "            return\n",
        "    print(f\"Error: Product ID {product_id} not found in inventory.\")\n",
        "\n",
        "# Function to update the price of a product\n",
        "def update_price(product_id, price, inventory):\n",
        "    for product in inventory:\n",
        "        if product[0] == product_id:\n",
        "            product[4] = price\n",
        "            print(f\"Price of product ID {product_id} updated to ${price}.\")\n",
        "            return\n",
        "    print(f\"Error: Product ID {product_id} not found in inventory.\")\n",
        "\n",
        "# Function to remove a product from the inventory\n",
        "def remove_product(product_id, inventory):\n",
        "    for product in inventory:\n",
        "        if product[0] == product_id:\n",
        "            inventory.remove(product)\n",
        "            print(f\"Product ID {product_id} removed from inventory.\")\n",
        "            return\n",
        "    print(f\"Error: Product ID {product_id} not found in inventory.\")\n",
        "\n",
        "# Function to write the inventory to a CSV file\n",
        "def write_inventory_to_csv(inventory, filename='inventory.csv'):\n",
        "    try:\n",
        "        with open(filename, mode='w', newline='') as file:\n",
        "            writer = csv.writer(file)\n",
        "            writer.writerow([\"ID\", \"Category\", \"Product Name\", \"Quantity\", \"Price\"])  # Write header row\n",
        "            for product in inventory:\n",
        "                writer.writerow(product)  # Write product data rows\n",
        "        print(f\"Inventory has been successfully written to {filename}.\")\n",
        "    except Exception as e:\n",
        "        print(f\"Error writing to CSV: {e}\")\n",
        "\n",
        "\n",
        "# Example Usage of New Features:\n",
        "\n",
        "# Display the current inventory\n",
        "display_inventory(inventory)\n",
        "\n",
        "# Update the quantity of an existing product\n",
        "update_quantity(1, 35, inventory)  # Update quantity for product ID 1\n",
        "\n",
        "# Update the price of an existing product\n",
        "update_price(2, 349.99, inventory)  # Update price for product ID 2\n",
        "\n",
        "# Remove a product from the inventory\n",
        "remove_product(3, inventory)  # Remove product with ID 3\n",
        "\n",
        "# Display the updated inventory\n",
        "display_inventory(inventory)\n",
        "\n",
        "# Write the updated inventory to CSV\n",
        "write_inventory_to_csv(inventory)\n"
      ],
      "metadata": {
        "id": "DyYC1N5OVeoF",
        "colab": {
          "base_uri": "https://localhost:8080/"
        },
        "outputId": "df7bcc01-856f-4a23-e68c-58838f6cf675"
      },
      "execution_count": 43,
      "outputs": [
        {
          "output_type": "stream",
          "name": "stdout",
          "text": [
            "Current Inventory:\n",
            "ID: 1, Category: Electronics, Product Name: Laptop, Quantity: 35, Price: $207.42\n",
            "ID: 2, Category: Electronics, Product Name: Smartphone, Quantity: 34, Price: $349.99\n",
            "ID: 4, Category: Electronics, Product Name: Smartwatch, Quantity: 21, Price: $82.63\n",
            "ID: 5, Category: Electronics, Product Name: Camera, Quantity: 20, Price: $192.81\n",
            "ID: 6, Category: Clothing, Product Name: T-shirt, Quantity: 33, Price: $298.03\n",
            "ID: 7, Category: Clothing, Product Name: Jeans, Quantity: 48, Price: $136.29\n",
            "ID: 8, Category: Clothing, Product Name: Jacket, Quantity: 28, Price: $199.12\n",
            "ID: 9, Category: Clothing, Product Name: Shoes, Quantity: 23, Price: $279.94\n",
            "ID: 10, Category: Clothing, Product Name: Sweater, Quantity: 19, Price: $145.63\n",
            "ID: 11, Category: Groceries, Product Name: Rice, Quantity: 8, Price: $284.96\n",
            "ID: 12, Category: Groceries, Product Name: Bread, Quantity: 46, Price: $419.4\n",
            "ID: 13, Category: Groceries, Product Name: Milk, Quantity: 22, Price: $178.69\n",
            "ID: 14, Category: Groceries, Product Name: Eggs, Quantity: 19, Price: $239.28\n",
            "ID: 15, Category: Groceries, Product Name: Apple, Quantity: 49, Price: $130.63\n",
            "ID: 16, Category: Furniture, Product Name: Sofa, Quantity: 23, Price: $5.22\n",
            "ID: 17, Category: Furniture, Product Name: Chair, Quantity: 14, Price: $114.28\n",
            "ID: 18, Category: Furniture, Product Name: Table, Quantity: 27, Price: $482.17\n",
            "ID: 19, Category: Furniture, Product Name: Bed, Quantity: 32, Price: $340.92\n",
            "ID: 20, Category: Furniture, Product Name: Bookshelf, Quantity: 22, Price: $149.12\n",
            "ID: 21, Category: Stationery, Product Name: Pen, Quantity: 14, Price: $496.34\n",
            "ID: 22, Category: Stationery, Product Name: Notebook, Quantity: 37, Price: $144.44\n",
            "ID: 23, Category: Stationery, Product Name: Pencil, Quantity: 12, Price: $304.91\n",
            "ID: 24, Category: Stationery, Product Name: Eraser, Quantity: 33, Price: $126.51\n",
            "ID: 25, Category: Stationery, Product Name: Highlighter, Quantity: 16, Price: $27.73\n",
            "Quantity of product ID 1 updated to 35.\n",
            "Price of product ID 2 updated to $349.99.\n",
            "Error: Product ID 3 not found in inventory.\n",
            "Current Inventory:\n",
            "ID: 1, Category: Electronics, Product Name: Laptop, Quantity: 35, Price: $207.42\n",
            "ID: 2, Category: Electronics, Product Name: Smartphone, Quantity: 34, Price: $349.99\n",
            "ID: 4, Category: Electronics, Product Name: Smartwatch, Quantity: 21, Price: $82.63\n",
            "ID: 5, Category: Electronics, Product Name: Camera, Quantity: 20, Price: $192.81\n",
            "ID: 6, Category: Clothing, Product Name: T-shirt, Quantity: 33, Price: $298.03\n",
            "ID: 7, Category: Clothing, Product Name: Jeans, Quantity: 48, Price: $136.29\n",
            "ID: 8, Category: Clothing, Product Name: Jacket, Quantity: 28, Price: $199.12\n",
            "ID: 9, Category: Clothing, Product Name: Shoes, Quantity: 23, Price: $279.94\n",
            "ID: 10, Category: Clothing, Product Name: Sweater, Quantity: 19, Price: $145.63\n",
            "ID: 11, Category: Groceries, Product Name: Rice, Quantity: 8, Price: $284.96\n",
            "ID: 12, Category: Groceries, Product Name: Bread, Quantity: 46, Price: $419.4\n",
            "ID: 13, Category: Groceries, Product Name: Milk, Quantity: 22, Price: $178.69\n",
            "ID: 14, Category: Groceries, Product Name: Eggs, Quantity: 19, Price: $239.28\n",
            "ID: 15, Category: Groceries, Product Name: Apple, Quantity: 49, Price: $130.63\n",
            "ID: 16, Category: Furniture, Product Name: Sofa, Quantity: 23, Price: $5.22\n",
            "ID: 17, Category: Furniture, Product Name: Chair, Quantity: 14, Price: $114.28\n",
            "ID: 18, Category: Furniture, Product Name: Table, Quantity: 27, Price: $482.17\n",
            "ID: 19, Category: Furniture, Product Name: Bed, Quantity: 32, Price: $340.92\n",
            "ID: 20, Category: Furniture, Product Name: Bookshelf, Quantity: 22, Price: $149.12\n",
            "ID: 21, Category: Stationery, Product Name: Pen, Quantity: 14, Price: $496.34\n",
            "ID: 22, Category: Stationery, Product Name: Notebook, Quantity: 37, Price: $144.44\n",
            "ID: 23, Category: Stationery, Product Name: Pencil, Quantity: 12, Price: $304.91\n",
            "ID: 24, Category: Stationery, Product Name: Eraser, Quantity: 33, Price: $126.51\n",
            "ID: 25, Category: Stationery, Product Name: Highlighter, Quantity: 16, Price: $27.73\n",
            "Inventory has been successfully written to inventory.csv.\n"
          ]
        }
      ]
    },
    {
      "cell_type": "markdown",
      "source": [
        "**Prompt:3** Now I want to delete the product that is out of stock and I don't want to restock it in the inventory"
      ],
      "metadata": {
        "id": "K8SkZborkeZb"
      }
    },
    {
      "cell_type": "code",
      "source": [
        "deleted_products = ['Jacket']\n",
        "# Function to generate a report of deleted products\n",
        "def generate_deleted_report(deleted_products):\n",
        "    if deleted_products:\n",
        "        print(\"\\nDeleted Products Report:\")\n",
        "        for product in deleted_products:\n",
        "            print(f\"- {product.capitalize()}\")\n",
        "    else:\n",
        "        print(\"\\nNo products were deleted.\")\n",
        "\n",
        "# Function to write the updated inventory (after deletion) to CSV\n",
        "def write_updated_inventory_to_csv(inventory):\n",
        "    header = ['Product ID', 'Category', 'Product Name', 'Quantity', 'Price']\n",
        "\n",
        "    with open('inventory.csv', mode='w', newline='') as file:\n",
        "        writer = csv.writer(file, quotechar=\"'\", quoting=csv.QUOTE_MINIMAL)\n",
        "\n",
        "        # Write the header\n",
        "        writer.writerow(header)\n",
        "\n",
        "        # Write the updated inventory data\n",
        "        writer.writerows(inventory)\n",
        "\n",
        "    print(\"\\nUpdated inventory CSV file created successfully!\")\n",
        "\n",
        "# Example Usage:\n",
        "\n",
        "# Print the deleted products report after deletion\n",
        "generate_deleted_report(deleted_products)\n",
        "\n",
        "# Write the updated inventory (after deletion) to CSV\n",
        "write_updated_inventory_to_csv(inventory)\n",
        "\n"
      ],
      "metadata": {
        "id": "oSpATYFmkcko",
        "colab": {
          "base_uri": "https://localhost:8080/"
        },
        "outputId": "5411a09e-ad00-40aa-ac90-fe4a8f72d55a"
      },
      "execution_count": 49,
      "outputs": [
        {
          "output_type": "stream",
          "name": "stdout",
          "text": [
            "\n",
            "Deleted Products Report:\n",
            "- Jacket\n",
            "\n",
            "Updated inventory CSV file created successfully!\n"
          ]
        }
      ]
    },
    {
      "cell_type": "markdown",
      "source": [
        "**Prompt 4:(Revised)** I don't want to delete jacket, instead I want to remove shoes."
      ],
      "metadata": {
        "id": "Ir5Ea5R1m0u1"
      }
    },
    {
      "cell_type": "code",
      "source": [
        "# Function to generate a detailed report of deleted products\n",
        "def generate_deleted_products_report(deleted_products):\n",
        "    if deleted_products:\n",
        "        print(\"\\nDeleted Products Report:\")\n",
        "        for product in deleted_products:\n",
        "            print(f\"- {product.capitalize()}\")\n",
        "    else:\n",
        "        print(\"\\nNo products were deleted.\")\n",
        "\n",
        "# Function to restore a deleted product (if it exists in the deleted_products set)\n",
        "def restore_deleted_product(product_name, inventory, deleted_products, categories):\n",
        "    if product_name.lower() in deleted_products:\n",
        "        # Randomly generate missing product details\n",
        "        category = random.choice(list(categories.keys()))\n",
        "        product_name_lower = product_name.lower()\n",
        "\n",
        "        # Restore product using a random product from the same category\n",
        "        product_data = [product for product in inventory if product[2].lower() == product_name_lower]\n",
        "        if product_data:\n",
        "            restored_product = product_data[0]  # Assuming there is exactly one match for the name\n",
        "            product_id = len(inventory) + 1\n",
        "            restored_product[0] = product_id  # Assign new Product ID\n",
        "            inventory.append(restored_product)\n",
        "            deleted_products.remove(product_name.lower())  # Remove from deleted list\n",
        "            print(f\"Product '{product_name}' restored successfully.\")\n",
        "        else:\n",
        "            print(f\"Error: Product '{product_name}' cannot be restored.\")\n",
        "    else:\n",
        "        print(f\"Error: Product '{product_name}' was not deleted, cannot restore.\")\n",
        "\n",
        "# Function to delete a specific product by name\n",
        "def delete_specific_product(product_name, inventory, deleted_products):\n",
        "    \"\"\"Deletes a specific product from the inventory and adds it to the deleted products list.\n",
        "    \"\"\"\n",
        "    for product in inventory:\n",
        "        if product[2].lower() == product_name.lower():\n",
        "            inventory.remove(product)\n",
        "            deleted_products.append(product_name.lower())  # Add to deleted list\n",
        "            print(f\"Product '{product_name}' deleted successfully.\")\n",
        "            return\n",
        "    print(f\"Error: Product '{product_name}' not found in the inventory.\")\n",
        "\n",
        "# Function to write the updated inventory to a CSV file after deletion or restoration\n",
        "def write_inventory_to_csv(inventory, file_name='inventory.csv'):\n",
        "    header = ['Product ID', 'Category', 'Product Name', 'Quantity', 'Price']\n",
        "\n",
        "    with open(file_name, mode='w', newline='') as file:\n",
        "        writer = csv.writer(file, quotechar=\"'\", quoting=csv.QUOTE_MINIMAL)\n",
        "\n",
        "        # Write the header\n",
        "        writer.writerow(header)\n",
        "\n",
        "        # Write the updated inventory data\n",
        "        writer.writerows(inventory)\n",
        "\n",
        "    print(f\"\\nUpdated inventory saved to '{file_name}'.\")\n",
        "\n",
        "# Example Usage:\n",
        "\n",
        "# Print the initial inventory\n",
        "print(\"Initial Inventory:\")\n",
        "for product in inventory:\n",
        "    print(product)\n",
        "\n",
        "# Call the function to delete a specific product\n",
        "delete_specific_product('Shoes', inventory, deleted_products)\n",
        "\n",
        "# Print the updated inventory\n",
        "print(\"\\nUpdated Inventory after deletion:\")\n",
        "for product in inventory:\n",
        "    print(product)\n",
        "\n",
        "# Print deleted products report\n",
        "generate_deleted_products_report(deleted_products)\n",
        "\n",
        "# Call the function to restore a deleted product\n",
        "restore_deleted_product('Jacket', inventory, deleted_products, categories)\n",
        "\n",
        "# Print the updated inventory after restoration\n",
        "print(\"\\nUpdated Inventory after restoration:\")\n",
        "for product in inventory:\n",
        "    print(product)\n",
        "\n",
        "# Save the updated inventory to CSV\n",
        "write_inventory_to_csv(inventory)"
      ],
      "metadata": {
        "id": "yTADfFCnlw99",
        "colab": {
          "base_uri": "https://localhost:8080/"
        },
        "outputId": "44628d5b-24ca-41ca-951f-378301fc1fb4"
      },
      "execution_count": 53,
      "outputs": [
        {
          "output_type": "stream",
          "name": "stdout",
          "text": [
            "Initial Inventory:\n",
            "[1, 'Electronics', 'Laptop', 35, 207.42]\n",
            "[2, 'Electronics', 'Smartphone', 34, 349.99]\n",
            "[4, 'Electronics', 'Smartwatch', 21, 82.63]\n",
            "[5, 'Electronics', 'Camera', 20, 192.81]\n",
            "[6, 'Clothing', 'T-shirt', 33, 298.03]\n",
            "[7, 'Clothing', 'Jeans', 48, 136.29]\n",
            "[8, 'Clothing', 'Jacket', 28, 199.12]\n",
            "[9, 'Clothing', 'Shoes', 23, 279.94]\n",
            "[10, 'Clothing', 'Sweater', 19, 145.63]\n",
            "[11, 'Groceries', 'Rice', 8, 284.96]\n",
            "[12, 'Groceries', 'Bread', 46, 419.4]\n",
            "[13, 'Groceries', 'Milk', 22, 178.69]\n",
            "[14, 'Groceries', 'Eggs', 19, 239.28]\n",
            "[15, 'Groceries', 'Apple', 49, 130.63]\n",
            "[16, 'Furniture', 'Sofa', 23, 5.22]\n",
            "[17, 'Furniture', 'Chair', 14, 114.28]\n",
            "[18, 'Furniture', 'Table', 27, 482.17]\n",
            "[19, 'Furniture', 'Bed', 32, 340.92]\n",
            "[20, 'Furniture', 'Bookshelf', 22, 149.12]\n",
            "[21, 'Stationery', 'Pen', 14, 496.34]\n",
            "[22, 'Stationery', 'Notebook', 37, 144.44]\n",
            "[23, 'Stationery', 'Pencil', 12, 304.91]\n",
            "[24, 'Stationery', 'Eraser', 33, 126.51]\n",
            "[25, 'Stationery', 'Highlighter', 16, 27.73]\n",
            "Product 'Shoes' deleted successfully.\n",
            "\n",
            "Updated Inventory after deletion:\n",
            "[1, 'Electronics', 'Laptop', 35, 207.42]\n",
            "[2, 'Electronics', 'Smartphone', 34, 349.99]\n",
            "[4, 'Electronics', 'Smartwatch', 21, 82.63]\n",
            "[5, 'Electronics', 'Camera', 20, 192.81]\n",
            "[6, 'Clothing', 'T-shirt', 33, 298.03]\n",
            "[7, 'Clothing', 'Jeans', 48, 136.29]\n",
            "[8, 'Clothing', 'Jacket', 28, 199.12]\n",
            "[10, 'Clothing', 'Sweater', 19, 145.63]\n",
            "[11, 'Groceries', 'Rice', 8, 284.96]\n",
            "[12, 'Groceries', 'Bread', 46, 419.4]\n",
            "[13, 'Groceries', 'Milk', 22, 178.69]\n",
            "[14, 'Groceries', 'Eggs', 19, 239.28]\n",
            "[15, 'Groceries', 'Apple', 49, 130.63]\n",
            "[16, 'Furniture', 'Sofa', 23, 5.22]\n",
            "[17, 'Furniture', 'Chair', 14, 114.28]\n",
            "[18, 'Furniture', 'Table', 27, 482.17]\n",
            "[19, 'Furniture', 'Bed', 32, 340.92]\n",
            "[20, 'Furniture', 'Bookshelf', 22, 149.12]\n",
            "[21, 'Stationery', 'Pen', 14, 496.34]\n",
            "[22, 'Stationery', 'Notebook', 37, 144.44]\n",
            "[23, 'Stationery', 'Pencil', 12, 304.91]\n",
            "[24, 'Stationery', 'Eraser', 33, 126.51]\n",
            "[25, 'Stationery', 'Highlighter', 16, 27.73]\n",
            "\n",
            "Deleted Products Report:\n",
            "- Jacket\n",
            "- Shoes\n",
            "Error: Product 'Jacket' was not deleted, cannot restore.\n",
            "\n",
            "Updated Inventory after restoration:\n",
            "[1, 'Electronics', 'Laptop', 35, 207.42]\n",
            "[2, 'Electronics', 'Smartphone', 34, 349.99]\n",
            "[4, 'Electronics', 'Smartwatch', 21, 82.63]\n",
            "[5, 'Electronics', 'Camera', 20, 192.81]\n",
            "[6, 'Clothing', 'T-shirt', 33, 298.03]\n",
            "[7, 'Clothing', 'Jeans', 48, 136.29]\n",
            "[8, 'Clothing', 'Jacket', 28, 199.12]\n",
            "[10, 'Clothing', 'Sweater', 19, 145.63]\n",
            "[11, 'Groceries', 'Rice', 8, 284.96]\n",
            "[12, 'Groceries', 'Bread', 46, 419.4]\n",
            "[13, 'Groceries', 'Milk', 22, 178.69]\n",
            "[14, 'Groceries', 'Eggs', 19, 239.28]\n",
            "[15, 'Groceries', 'Apple', 49, 130.63]\n",
            "[16, 'Furniture', 'Sofa', 23, 5.22]\n",
            "[17, 'Furniture', 'Chair', 14, 114.28]\n",
            "[18, 'Furniture', 'Table', 27, 482.17]\n",
            "[19, 'Furniture', 'Bed', 32, 340.92]\n",
            "[20, 'Furniture', 'Bookshelf', 22, 149.12]\n",
            "[21, 'Stationery', 'Pen', 14, 496.34]\n",
            "[22, 'Stationery', 'Notebook', 37, 144.44]\n",
            "[23, 'Stationery', 'Pencil', 12, 304.91]\n",
            "[24, 'Stationery', 'Eraser', 33, 126.51]\n",
            "[25, 'Stationery', 'Highlighter', 16, 27.73]\n",
            "\n",
            "Updated inventory saved to 'inventory.csv'.\n"
          ]
        }
      ]
    },
    {
      "cell_type": "markdown",
      "source": [
        "**Prompt 5:** Now, I want to update specific product 'chair'"
      ],
      "metadata": {
        "id": "cyIavLNvuh7g"
      }
    },
    {
      "cell_type": "code",
      "source": [
        "# Function to validate and update a specific product's details (quantity and price)\n",
        "def update_specific_product_with_validation(product_name, new_quantity, new_price, inventory):\n",
        "    if new_quantity < 0 or new_price < 0:\n",
        "        print(\"Error: Quantity and price must be positive values.\")\n",
        "        return\n",
        "\n",
        "    product_found = False\n",
        "    for product in inventory:\n",
        "        if product[2].lower() == product_name.lower():  # Case-insensitive comparison\n",
        "            product[3] = new_quantity  # Update quantity\n",
        "            product[4] = new_price  # Update price\n",
        "            print(f\"Product '{product_name}' updated successfully. New Quantity: {new_quantity}, New Price: ${new_price}\")\n",
        "            product_found = True\n",
        "            break\n",
        "\n",
        "    if not product_found:\n",
        "        print(f\"Error: Product '{product_name}' not found in the inventory.\")\n",
        "\n",
        "# Function to search for a product by name\n",
        "def search_product_by_name(product_name, inventory):\n",
        "    for product in inventory:\n",
        "        if product[2].lower() == product_name.lower():\n",
        "            print(f\"Product Found: ID: {product[0]}, Category: {product[1]}, Name: {product[2]}, Quantity: {product[3]}, Price: ${product[4]}\")\n",
        "            return product\n",
        "    print(f\"Error: Product '{product_name}' not found in the inventory.\")\n",
        "    return None\n",
        "\n",
        "# Function to display all products in the inventory\n",
        "def display_all_products(inventory):\n",
        "    print(\"\\nCurrent Inventory:\")\n",
        "    for product in inventory:\n",
        "        print(f\"ID: {product[0]}, Category: {product[1]}, Product Name: {product[2]}, Quantity: {product[3]}, Price: ${product[4]}\")\n",
        "\n",
        "# Example Usage:\n",
        "\n",
        "# Print the initial inventory\n",
        "print(\"Initial Inventory:\")\n",
        "display_all_products(inventory)\n",
        "\n",
        "# Update the 'Chair' product (update quantity and price)\n",
        "update_specific_product_with_validation('Chair', 15, 199.99, inventory)\n",
        "\n",
        "# Search for a specific product ('Chair') in the inventory\n",
        "search_product_by_name('Chair', inventory)\n",
        "\n",
        "# Print the updated inventory after modification\n",
        "print(\"\\nUpdated Inventory after modification:\")\n",
        "display_all_products(inventory)\n",
        "\n",
        "# Save the updated inventory to CSV\n",
        "write_inventory_to_csv(inventory)\n"
      ],
      "metadata": {
        "id": "xk2xoEa5s4I0",
        "colab": {
          "base_uri": "https://localhost:8080/"
        },
        "outputId": "94417ffa-d0e9-4d35-b54d-2d1ceaaed378"
      },
      "execution_count": 54,
      "outputs": [
        {
          "output_type": "stream",
          "name": "stdout",
          "text": [
            "Initial Inventory:\n",
            "\n",
            "Current Inventory:\n",
            "ID: 1, Category: Electronics, Product Name: Laptop, Quantity: 35, Price: $207.42\n",
            "ID: 2, Category: Electronics, Product Name: Smartphone, Quantity: 34, Price: $349.99\n",
            "ID: 4, Category: Electronics, Product Name: Smartwatch, Quantity: 21, Price: $82.63\n",
            "ID: 5, Category: Electronics, Product Name: Camera, Quantity: 20, Price: $192.81\n",
            "ID: 6, Category: Clothing, Product Name: T-shirt, Quantity: 33, Price: $298.03\n",
            "ID: 7, Category: Clothing, Product Name: Jeans, Quantity: 48, Price: $136.29\n",
            "ID: 8, Category: Clothing, Product Name: Jacket, Quantity: 28, Price: $199.12\n",
            "ID: 10, Category: Clothing, Product Name: Sweater, Quantity: 19, Price: $145.63\n",
            "ID: 11, Category: Groceries, Product Name: Rice, Quantity: 8, Price: $284.96\n",
            "ID: 12, Category: Groceries, Product Name: Bread, Quantity: 46, Price: $419.4\n",
            "ID: 13, Category: Groceries, Product Name: Milk, Quantity: 22, Price: $178.69\n",
            "ID: 14, Category: Groceries, Product Name: Eggs, Quantity: 19, Price: $239.28\n",
            "ID: 15, Category: Groceries, Product Name: Apple, Quantity: 49, Price: $130.63\n",
            "ID: 16, Category: Furniture, Product Name: Sofa, Quantity: 23, Price: $5.22\n",
            "ID: 17, Category: Furniture, Product Name: Chair, Quantity: 14, Price: $114.28\n",
            "ID: 18, Category: Furniture, Product Name: Table, Quantity: 27, Price: $482.17\n",
            "ID: 19, Category: Furniture, Product Name: Bed, Quantity: 32, Price: $340.92\n",
            "ID: 20, Category: Furniture, Product Name: Bookshelf, Quantity: 22, Price: $149.12\n",
            "ID: 21, Category: Stationery, Product Name: Pen, Quantity: 14, Price: $496.34\n",
            "ID: 22, Category: Stationery, Product Name: Notebook, Quantity: 37, Price: $144.44\n",
            "ID: 23, Category: Stationery, Product Name: Pencil, Quantity: 12, Price: $304.91\n",
            "ID: 24, Category: Stationery, Product Name: Eraser, Quantity: 33, Price: $126.51\n",
            "ID: 25, Category: Stationery, Product Name: Highlighter, Quantity: 16, Price: $27.73\n",
            "Product 'Chair' updated successfully. New Quantity: 15, New Price: $199.99\n",
            "Product Found: ID: 17, Category: Furniture, Name: Chair, Quantity: 15, Price: $199.99\n",
            "\n",
            "Updated Inventory after modification:\n",
            "\n",
            "Current Inventory:\n",
            "ID: 1, Category: Electronics, Product Name: Laptop, Quantity: 35, Price: $207.42\n",
            "ID: 2, Category: Electronics, Product Name: Smartphone, Quantity: 34, Price: $349.99\n",
            "ID: 4, Category: Electronics, Product Name: Smartwatch, Quantity: 21, Price: $82.63\n",
            "ID: 5, Category: Electronics, Product Name: Camera, Quantity: 20, Price: $192.81\n",
            "ID: 6, Category: Clothing, Product Name: T-shirt, Quantity: 33, Price: $298.03\n",
            "ID: 7, Category: Clothing, Product Name: Jeans, Quantity: 48, Price: $136.29\n",
            "ID: 8, Category: Clothing, Product Name: Jacket, Quantity: 28, Price: $199.12\n",
            "ID: 10, Category: Clothing, Product Name: Sweater, Quantity: 19, Price: $145.63\n",
            "ID: 11, Category: Groceries, Product Name: Rice, Quantity: 8, Price: $284.96\n",
            "ID: 12, Category: Groceries, Product Name: Bread, Quantity: 46, Price: $419.4\n",
            "ID: 13, Category: Groceries, Product Name: Milk, Quantity: 22, Price: $178.69\n",
            "ID: 14, Category: Groceries, Product Name: Eggs, Quantity: 19, Price: $239.28\n",
            "ID: 15, Category: Groceries, Product Name: Apple, Quantity: 49, Price: $130.63\n",
            "ID: 16, Category: Furniture, Product Name: Sofa, Quantity: 23, Price: $5.22\n",
            "ID: 17, Category: Furniture, Product Name: Chair, Quantity: 15, Price: $199.99\n",
            "ID: 18, Category: Furniture, Product Name: Table, Quantity: 27, Price: $482.17\n",
            "ID: 19, Category: Furniture, Product Name: Bed, Quantity: 32, Price: $340.92\n",
            "ID: 20, Category: Furniture, Product Name: Bookshelf, Quantity: 22, Price: $149.12\n",
            "ID: 21, Category: Stationery, Product Name: Pen, Quantity: 14, Price: $496.34\n",
            "ID: 22, Category: Stationery, Product Name: Notebook, Quantity: 37, Price: $144.44\n",
            "ID: 23, Category: Stationery, Product Name: Pencil, Quantity: 12, Price: $304.91\n",
            "ID: 24, Category: Stationery, Product Name: Eraser, Quantity: 33, Price: $126.51\n",
            "ID: 25, Category: Stationery, Product Name: Highlighter, Quantity: 16, Price: $27.73\n",
            "\n",
            "Updated inventory saved to 'inventory.csv'.\n"
          ]
        }
      ]
    },
    {
      "cell_type": "markdown",
      "source": [
        "**Prompt 6:** I want to add new basic search feature for the inventory management"
      ],
      "metadata": {
        "id": "PFlV2aqpvzC0"
      }
    },
    {
      "cell_type": "code",
      "source": [
        "# Function to search the inventory based on a specific criterion (name or category)\n",
        "def basic_search(criteria, search_value, inventory):\n",
        "    results = []\n",
        "    criteria = criteria.lower()\n",
        "    search_value = search_value.lower()\n",
        "\n",
        "    for product in inventory:\n",
        "        # Search based on product name\n",
        "        if criteria == 'name' and search_value in product[2].lower():\n",
        "            results.append(product)\n",
        "        # Search based on category\n",
        "        elif criteria == 'category' and search_value in product[1].lower():\n",
        "            results.append(product)\n",
        "\n",
        "    # Print search results\n",
        "    if results:\n",
        "        print(f\"\\nSearch Results for '{search_value}' in '{criteria}':\")\n",
        "        for product in results:\n",
        "            print(f\"ID: {product[0]}, Category: {product[1]}, Product Name: {product[2]}, Quantity: {product[3]}, Price: ${product[4]}\")\n",
        "    else:\n",
        "        print(f\"No results found for '{search_value}' in '{criteria}'.\")\n",
        "\n",
        "# Example Usage:\n",
        "\n",
        "# Print the initial inventory\n",
        "print(\"Initial Inventory:\")\n",
        "display_all_products(inventory)\n",
        "\n",
        "# Search by product name\n",
        "basic_search('name', 'chair', inventory)\n",
        "\n",
        "# Search by category\n",
        "basic_search('category', 'electronics', inventory)\n",
        "\n",
        "# Search for a product that does not exist\n",
        "basic_search('name', 'tablet', inventory)\n"
      ],
      "metadata": {
        "id": "qjNZqAHquxE6",
        "colab": {
          "base_uri": "https://localhost:8080/"
        },
        "outputId": "471fd356-f8dd-4d92-efac-43f3b8d6251e"
      },
      "execution_count": 55,
      "outputs": [
        {
          "output_type": "stream",
          "name": "stdout",
          "text": [
            "Initial Inventory:\n",
            "\n",
            "Current Inventory:\n",
            "ID: 1, Category: Electronics, Product Name: Laptop, Quantity: 35, Price: $207.42\n",
            "ID: 2, Category: Electronics, Product Name: Smartphone, Quantity: 34, Price: $349.99\n",
            "ID: 4, Category: Electronics, Product Name: Smartwatch, Quantity: 21, Price: $82.63\n",
            "ID: 5, Category: Electronics, Product Name: Camera, Quantity: 20, Price: $192.81\n",
            "ID: 6, Category: Clothing, Product Name: T-shirt, Quantity: 33, Price: $298.03\n",
            "ID: 7, Category: Clothing, Product Name: Jeans, Quantity: 48, Price: $136.29\n",
            "ID: 8, Category: Clothing, Product Name: Jacket, Quantity: 28, Price: $199.12\n",
            "ID: 10, Category: Clothing, Product Name: Sweater, Quantity: 19, Price: $145.63\n",
            "ID: 11, Category: Groceries, Product Name: Rice, Quantity: 8, Price: $284.96\n",
            "ID: 12, Category: Groceries, Product Name: Bread, Quantity: 46, Price: $419.4\n",
            "ID: 13, Category: Groceries, Product Name: Milk, Quantity: 22, Price: $178.69\n",
            "ID: 14, Category: Groceries, Product Name: Eggs, Quantity: 19, Price: $239.28\n",
            "ID: 15, Category: Groceries, Product Name: Apple, Quantity: 49, Price: $130.63\n",
            "ID: 16, Category: Furniture, Product Name: Sofa, Quantity: 23, Price: $5.22\n",
            "ID: 17, Category: Furniture, Product Name: Chair, Quantity: 15, Price: $199.99\n",
            "ID: 18, Category: Furniture, Product Name: Table, Quantity: 27, Price: $482.17\n",
            "ID: 19, Category: Furniture, Product Name: Bed, Quantity: 32, Price: $340.92\n",
            "ID: 20, Category: Furniture, Product Name: Bookshelf, Quantity: 22, Price: $149.12\n",
            "ID: 21, Category: Stationery, Product Name: Pen, Quantity: 14, Price: $496.34\n",
            "ID: 22, Category: Stationery, Product Name: Notebook, Quantity: 37, Price: $144.44\n",
            "ID: 23, Category: Stationery, Product Name: Pencil, Quantity: 12, Price: $304.91\n",
            "ID: 24, Category: Stationery, Product Name: Eraser, Quantity: 33, Price: $126.51\n",
            "ID: 25, Category: Stationery, Product Name: Highlighter, Quantity: 16, Price: $27.73\n",
            "\n",
            "Search Results for 'chair' in 'name':\n",
            "ID: 17, Category: Furniture, Product Name: Chair, Quantity: 15, Price: $199.99\n",
            "\n",
            "Search Results for 'electronics' in 'category':\n",
            "ID: 1, Category: Electronics, Product Name: Laptop, Quantity: 35, Price: $207.42\n",
            "ID: 2, Category: Electronics, Product Name: Smartphone, Quantity: 34, Price: $349.99\n",
            "ID: 4, Category: Electronics, Product Name: Smartwatch, Quantity: 21, Price: $82.63\n",
            "ID: 5, Category: Electronics, Product Name: Camera, Quantity: 20, Price: $192.81\n",
            "No results found for 'tablet' in 'name'.\n"
          ]
        }
      ]
    },
    {
      "cell_type": "markdown",
      "source": [
        "**Prompt 7:** Moving forward, I want to change the CSV file to automate restocking when the order is out of stock"
      ],
      "metadata": {
        "id": "3mssAyJIxaQm"
      }
    },
    {
      "cell_type": "code",
      "source": [
        "# Function to read the inventory from the CSV file\n",
        "def read_inventory_from_csv(file_name='inventory.csv'):\n",
        "    inventory = []\n",
        "    try:\n",
        "        with open(file_name, mode='r') as file:\n",
        "            reader = csv.reader(file, quotechar=\"'\", quoting=csv.QUOTE_MINIMAL)\n",
        "            next(reader)  # Skip header\n",
        "            for row in reader:\n",
        "                product_id, category, product_name, quantity, price = row\n",
        "                inventory.append([int(product_id), category, product_name, int(quantity), float(price)])\n",
        "    except FileNotFoundError:\n",
        "        print(f\"File {file_name} not found. Creating a new one.\")\n",
        "    return inventory\n",
        "\n",
        "# Function to write the inventory to the CSV file\n",
        "def write_inventory_to_csv(inventory, file_name='inventory.csv'):\n",
        "    header = ['Product ID', 'Category', 'Product Name', 'Quantity', 'Price']\n",
        "\n",
        "    with open(file_name, mode='w', newline='') as file:\n",
        "        writer = csv.writer(file, quotechar=\"'\", quoting=csv.QUOTE_MINIMAL)\n",
        "\n",
        "        # Write the header\n",
        "        writer.writerow(header)\n",
        "\n",
        "        # Write the product data\n",
        "        writer.writerows(inventory)\n",
        "\n",
        "    print(f\"Inventory CSV file '{file_name}' updated successfully!\")\n",
        "\n",
        "# Function to check and restock products that are out of stock\n",
        "def restock_product_if_needed(inventory, product_name, restock_quantity=50, min_threshold=5):\n",
        "    restocked = False\n",
        "    for product in inventory:\n",
        "        if product[2].lower() == product_name.lower():\n",
        "            if product[3] <= min_threshold:  # If the quantity is below threshold\n",
        "                product[3] = restock_quantity  # Restock the product\n",
        "                print(f\"Product '{product_name}' restocked to {restock_quantity}.\")\n",
        "                restocked = True\n",
        "            break\n",
        "    if not restocked:\n",
        "        print(f\"Error: Product '{product_name}' not found for restocking.\")\n",
        "\n",
        "# Function to simulate order processing and restocking\n",
        "def process_order(inventory, ordered_product_name, ordered_quantity):\n",
        "    for product in inventory:\n",
        "        if product[2].lower() == ordered_product_name.lower():\n",
        "            if product[3] >= ordered_quantity:\n",
        "                product[3] -= ordered_quantity\n",
        "                print(f\"Order processed for '{ordered_product_name}' ({ordered_quantity} units).\")\n",
        "                # If quantity is low, restock automatically\n",
        "                restock_product_if_needed(inventory, ordered_product_name)\n",
        "            else:\n",
        "                print(f\"Not enough stock for '{ordered_product_name}'. Current stock: {product[3]}\")\n",
        "            break\n",
        "    else:\n",
        "        print(f\"Product '{ordered_product_name}' not found in inventory.\")\n",
        "\n",
        "# Example Usage:\n",
        "\n",
        "# Read the initial inventory from CSV file\n",
        "inventory = read_inventory_from_csv()\n",
        "\n",
        "# Display the initial inventory\n",
        "print(\"Initial Inventory:\")\n",
        "for product in inventory:\n",
        "    print(f\"ID: {product[0]}, Category: {product[1]}, Product Name: {product[2]}, Quantity: {product[3]}, Price: ${product[4]}\")\n",
        "\n",
        "# Simulate an order being placed (e.g., 2 units of 'Chair')\n",
        "process_order(inventory, 'Chair', 2)\n",
        "\n",
        "# After processing the order, write the updated inventory back to CSV\n",
        "write_inventory_to_csv(inventory)"
      ],
      "metadata": {
        "id": "vZrhnDIgwAlV",
        "colab": {
          "base_uri": "https://localhost:8080/"
        },
        "outputId": "15e7ce12-785b-4b76-dfa9-71beb17e2b2a"
      },
      "execution_count": 57,
      "outputs": [
        {
          "output_type": "stream",
          "name": "stdout",
          "text": [
            "Initial Inventory:\n",
            "ID: 1, Category: Electronics, Product Name: Laptop, Quantity: 35, Price: $207.42\n",
            "ID: 2, Category: Electronics, Product Name: Smartphone, Quantity: 34, Price: $349.99\n",
            "ID: 4, Category: Electronics, Product Name: Smartwatch, Quantity: 21, Price: $82.63\n",
            "ID: 5, Category: Electronics, Product Name: Camera, Quantity: 20, Price: $192.81\n",
            "ID: 6, Category: Clothing, Product Name: T-shirt, Quantity: 33, Price: $298.03\n",
            "ID: 7, Category: Clothing, Product Name: Jeans, Quantity: 48, Price: $136.29\n",
            "ID: 8, Category: Clothing, Product Name: Jacket, Quantity: 28, Price: $199.12\n",
            "ID: 10, Category: Clothing, Product Name: Sweater, Quantity: 19, Price: $145.63\n",
            "ID: 11, Category: Groceries, Product Name: Rice, Quantity: 8, Price: $284.96\n",
            "ID: 12, Category: Groceries, Product Name: Bread, Quantity: 46, Price: $419.4\n",
            "ID: 13, Category: Groceries, Product Name: Milk, Quantity: 22, Price: $178.69\n",
            "ID: 14, Category: Groceries, Product Name: Eggs, Quantity: 19, Price: $239.28\n",
            "ID: 15, Category: Groceries, Product Name: Apple, Quantity: 49, Price: $130.63\n",
            "ID: 16, Category: Furniture, Product Name: Sofa, Quantity: 23, Price: $5.22\n",
            "ID: 17, Category: Furniture, Product Name: Chair, Quantity: 13, Price: $199.99\n",
            "ID: 18, Category: Furniture, Product Name: Table, Quantity: 27, Price: $482.17\n",
            "ID: 19, Category: Furniture, Product Name: Bed, Quantity: 32, Price: $340.92\n",
            "ID: 20, Category: Furniture, Product Name: Bookshelf, Quantity: 22, Price: $149.12\n",
            "ID: 21, Category: Stationery, Product Name: Pen, Quantity: 14, Price: $496.34\n",
            "ID: 22, Category: Stationery, Product Name: Notebook, Quantity: 37, Price: $144.44\n",
            "ID: 23, Category: Stationery, Product Name: Pencil, Quantity: 12, Price: $304.91\n",
            "ID: 24, Category: Stationery, Product Name: Eraser, Quantity: 33, Price: $126.51\n",
            "ID: 25, Category: Stationery, Product Name: Highlighter, Quantity: 16, Price: $27.73\n",
            "Order processed for 'Chair' (2 units).\n",
            "Error: Product 'Chair' not found for restocking.\n",
            "Inventory CSV file 'inventory.csv' updated successfully!\n"
          ]
        }
      ]
    },
    {
      "cell_type": "markdown",
      "source": [
        "**Prompt 8:** To maintain proper recording of the information, I want to generate reports"
      ],
      "metadata": {
        "id": "I85bG7gfyM4a"
      }
    },
    {
      "cell_type": "code",
      "source": [
        "import datetime\n",
        "\n",
        "# Function to write inventory report\n",
        "def write_inventory_report(inventory, file_name='inventory_report.csv'):\n",
        "    header = ['Product ID', 'Category', 'Product Name', 'Quantity', 'Price']\n",
        "\n",
        "    with open(file_name, mode='w', newline='') as file:\n",
        "        writer = csv.writer(file, quotechar=\"'\", quoting=csv.QUOTE_MINIMAL)\n",
        "\n",
        "        # Write the header\n",
        "        writer.writerow(header)\n",
        "\n",
        "        # Write the inventory data\n",
        "        for product in inventory:\n",
        "            writer.writerow(product)\n",
        "\n",
        "    print(f\"Inventory Report generated: {file_name}\")\n",
        "\n",
        "# Function to write sales report\n",
        "def write_sales_report(order_details, file_name='sales_report.csv'):\n",
        "    header = ['Product Name', 'Quantity Ordered', 'Order Date']\n",
        "\n",
        "    with open(file_name, mode='a', newline='') as file:\n",
        "        writer = csv.writer(file, quotechar=\"'\", quoting=csv.QUOTE_MINIMAL)\n",
        "\n",
        "        # If file is empty, write header\n",
        "        if file.tell() == 0:\n",
        "            writer.writerow(header)\n",
        "\n",
        "        # Write the order details\n",
        "        for order in order_details:\n",
        "            writer.writerow(order)\n",
        "\n",
        "    print(f\"Sales Report updated: {file_name}\")\n",
        "\n",
        "# Function to write restocking report\n",
        "def write_restocking_report(restocking_details, file_name='restocking_report.csv'):\n",
        "    header = ['Product Name', 'Restocked Quantity', 'Restock Date']\n",
        "\n",
        "    with open(file_name, mode='a', newline='') as file:\n",
        "        writer = csv.writer(file, quotechar=\"'\", quoting=csv.QUOTE_MINIMAL)\n",
        "\n",
        "        # If file is empty, write header\n",
        "        if file.tell() == 0:\n",
        "            writer.writerow(header)\n",
        "\n",
        "        # Write the restocking details\n",
        "        for restock in restocking_details:\n",
        "            writer.writerow(restock)\n",
        "\n",
        "    print(f\"Restocking Report updated: {file_name}\")\n",
        "\n",
        "# Function to write out-of-stock report\n",
        "def write_out_of_stock_report(out_of_stock_products, file_name='out_of_stock_report.csv'):\n",
        "    header = ['Product Name', 'Out-of-Stock Date']\n",
        "\n",
        "    with open(file_name, mode='a', newline='') as file:\n",
        "        writer = csv.writer(file, quotechar=\"'\", quoting=csv.QUOTE_MINIMAL)\n",
        "\n",
        "        # If file is empty, write header\n",
        "        if file.tell() == 0:\n",
        "            writer.writerow(header)\n",
        "\n",
        "        # Write the out-of-stock products\n",
        "        for product in out_of_stock_products:\n",
        "            writer.writerow(product)\n",
        "\n",
        "    print(f\"Out-of-Stock Report updated: {file_name}\")\n",
        "\n",
        "# Function to process an order and generate sales/out-of-stock reports\n",
        "def process_order_and_generate_reports(inventory, ordered_product_name, ordered_quantity, order_details, out_of_stock_products):\n",
        "    product_found = False\n",
        "    for product in inventory:\n",
        "        if product[2].lower() == ordered_product_name.lower():\n",
        "            product_found = True\n",
        "            if product[3] >= ordered_quantity:\n",
        "                product[3] -= ordered_quantity\n",
        "                order_details.append([product[2], ordered_quantity, datetime.datetime.now().strftime('%Y-%m-%d %H:%M:%S')])\n",
        "                print(f\"Order processed for '{ordered_product_name}' ({ordered_quantity} units).\")\n",
        "            else:\n",
        "                out_of_stock_products.append([product[2], datetime.datetime.now().strftime('%Y-%m-%d %H:%M:%S')])\n",
        "                print(f\"Not enough stock for '{ordered_product_name}'. Current stock: {product[3]}\")\n",
        "            break\n",
        "    else:\n",
        "        print(f\"Product '{ordered_product_name}' not found in inventory.\")\n",
        "\n",
        "# Function to restock and generate restocking reports\n",
        "def restock_product_and_generate_report(inventory, product_name, restock_quantity=50, min_threshold=5, restocking_details=[]):\n",
        "    for product in inventory:\n",
        "        if product[2].lower() == product_name.lower():\n",
        "            if product[3] <= min_threshold:\n",
        "                product[3] = restock_quantity  # Restock the product\n",
        "                restocking_details.append([product[2], restock_quantity, datetime.datetime.now().strftime('%Y-%m-%d %H:%M:%S')])\n",
        "                print(f\"Product '{product_name}' restocked to {restock_quantity}.\")\n",
        "            break\n",
        "\n",
        "# Example Usage:\n",
        "\n",
        "# Sample inventory data\n",
        "inventory = [\n",
        "    [1, 'Electronics', 'Smartphone', 10, 299.99],\n",
        "    [2, 'Clothing', 'Sweater', 20, 49.99],\n",
        "    [3, 'Clothing', 'Jacket', 0, 99.99],\n",
        "    [4, 'Electronics', 'Headphones', 10, 150.00],\n",
        "    [5, 'Furniture', 'Chair', 5, 150.00]\n",
        "]\n",
        "\n",
        "# Lists to track sales, restocking, and out-of-stock products\n",
        "order_details = []\n",
        "out_of_stock_products = []\n",
        "restocking_details = []\n",
        "\n",
        "# Process orders\n",
        "process_order_and_generate_reports(inventory, 'Chair', 2, order_details, out_of_stock_products)\n",
        "process_order_and_generate_reports(inventory, 'Jacket', 3, order_details, out_of_stock_products)\n",
        "\n",
        "# Restock products\n",
        "restock_product_and_generate_report(inventory, 'Chair', restock_quantity=50, min_threshold=5, restocking_details=restocking_details)\n",
        "restock_product_and_generate_report(inventory, 'Jacket', restock_quantity=50, min_threshold=5, restocking_details=restocking_details)\n",
        "\n",
        "# Write reports to CSV files\n",
        "write_inventory_report(inventory)\n",
        "write_sales_report(order_details)\n",
        "write_restocking_report(restocking_details)\n",
        "write_out_of_stock_report(out_of_stock_products)"
      ],
      "metadata": {
        "id": "9H41DGqvxsh3",
        "colab": {
          "base_uri": "https://localhost:8080/"
        },
        "outputId": "c7b1adc3-7882-4efa-fd7b-6489e03718cd"
      },
      "execution_count": 58,
      "outputs": [
        {
          "output_type": "stream",
          "name": "stdout",
          "text": [
            "Order processed for 'Chair' (2 units).\n",
            "Not enough stock for 'Jacket'. Current stock: 0\n",
            "Product 'Chair' restocked to 50.\n",
            "Product 'Jacket' restocked to 50.\n",
            "Inventory Report generated: inventory_report.csv\n",
            "Sales Report updated: sales_report.csv\n",
            "Restocking Report updated: restocking_report.csv\n",
            "Out-of-Stock Report updated: out_of_stock_report.csv\n"
          ]
        }
      ]
    },
    {
      "cell_type": "markdown",
      "source": [
        "**Prompt 9:** Now, I want to manage corrupted CSV files, write a python code for this one"
      ],
      "metadata": {
        "id": "wwLvv13B0y6Y"
      }
    },
    {
      "cell_type": "code",
      "source": [
        "# Function to detect if a CSV file is corrupted\n",
        "def is_csv_corrupted(file_name):\n",
        "    try:\n",
        "        with open(file_name, mode='r', newline='') as file:\n",
        "            csv_reader = csv.reader(file)\n",
        "            for row in csv_reader:\n",
        "                # Perform basic checks on row structure, like number of columns\n",
        "                if len(row) = 5:  # Assuming 5 columns in your CSV file (Product ID, Category, etc.)\n",
        "                    print(f\"Warning: Row has an unexpected number of columns: {row}\")\n",
        "                    return True\n",
        "            return False  # File is not corrupted\n",
        "    except Exception as e:\n",
        "        print(f\"Error: Unable to read the file {file_name}. Reason: {str(e)}\")\n",
        "        return True  # Corrupted or unreadable file\n",
        "\n",
        "# Example usage\n",
        "file_name = 'inventory.csv'\n",
        "if is_csv_corrupted(file_name):\n",
        "    print(f\"The file '{file_name}' is corrupted!\")\n",
        "else:\n",
        "    print(f\"The file '{file_name}' is valid.\")"
      ],
      "metadata": {
        "id": "4FZzymYmzMMB",
        "colab": {
          "base_uri": "https://localhost:8080/",
          "height": 106
        },
        "outputId": "62b2b441-dd24-4295-e759-f1174172e5f0"
      },
      "execution_count": 59,
      "outputs": [
        {
          "output_type": "error",
          "ename": "SyntaxError",
          "evalue": "cannot assign to function call here. Maybe you meant '==' instead of '='? (<ipython-input-59-133fd000c8c8>, line 8)",
          "traceback": [
            "\u001b[0;36m  File \u001b[0;32m\"<ipython-input-59-133fd000c8c8>\"\u001b[0;36m, line \u001b[0;32m8\u001b[0m\n\u001b[0;31m    if len(row) = 5:  # Assuming 5 columns in your CSV file (Product ID, Category, etc.)\u001b[0m\n\u001b[0m       ^\u001b[0m\n\u001b[0;31mSyntaxError\u001b[0m\u001b[0;31m:\u001b[0m cannot assign to function call here. Maybe you meant '==' instead of '='?\n"
          ]
        }
      ]
    },
    {
      "cell_type": "markdown",
      "source": [
        "**Error detection and correction**  \n",
        "\n",
        "File \"<ipython-input-61-133fd000c8c8>\", line 8\n",
        "    if len(row) = 5:  # Assuming 5 columns in your CSV file (Product ID, Category, etc.)\n",
        "       ^\n",
        "SyntaxError: cannot assign to function call here. Maybe you meant '==' instead of '='?\n"
      ],
      "metadata": {
        "id": "jAJ1j6as0JEC"
      }
    },
    {
      "cell_type": "code",
      "source": [
        "# Function to detect if a CSV file is corrupted\n",
        "def is_csv_corrupted(file_name):\n",
        "    try:\n",
        "        with open(file_name, mode='r', newline='') as file:\n",
        "            csv_reader = csv.reader(file)\n",
        "            for row in csv_reader:\n",
        "                # Perform basic checks on row structure, like number of columns\n",
        "                if len(row) != 5:  # Assuming 5 columns in your CSV file (Product ID, Category, etc.)\n",
        "                    print(f\"Warning: Row has an unexpected number of columns: {row}\")\n",
        "                    return True\n",
        "            return False  # File is not corrupted\n",
        "    except Exception as e:\n",
        "        print(f\"Error: Unable to read the file {file_name}. Reason: {str(e)}\")\n",
        "        return True  # Corrupted or unreadable file\n",
        "\n",
        "# Example usage\n",
        "file_name = 'inventory.csv'\n",
        "if is_csv_corrupted(file_name):\n",
        "    print(f\"The file '{file_name}' is corrupted!\")\n",
        "else:\n",
        "    print(f\"The file '{file_name}' is valid.\")"
      ],
      "metadata": {
        "id": "38p3blGyz911",
        "colab": {
          "base_uri": "https://localhost:8080/"
        },
        "outputId": "4d161935-8d17-4561-a116-dba89167e531"
      },
      "execution_count": 60,
      "outputs": [
        {
          "output_type": "stream",
          "name": "stdout",
          "text": [
            "The file 'inventory.csv' is valid.\n"
          ]
        }
      ]
    },
    {
      "cell_type": "code",
      "source": [
        "# Function to recover from corrupted CSV file\n",
        "def recover_csv(file_name, output_file_name):\n",
        "    valid_rows = []\n",
        "    try:\n",
        "        with open(file_name, mode='r', newline='') as file:\n",
        "            csv_reader = csv.reader(file)\n",
        "            for row in csv_reader:\n",
        "                # Check for row structure, such as missing fields or extra columns\n",
        "                if len(row) == 5:  # Ensure the row has the correct number of columns\n",
        "                    valid_rows.append(row)\n",
        "                else:\n",
        "                    print(f\"Warning: Skipping corrupted row: {row}\")\n",
        "\n",
        "        # Write valid rows to a new CSV file\n",
        "        with open(output_file_name, mode='w', newline='') as file:\n",
        "            writer = csv.writer(file, quotechar=\"'\", quoting=csv.QUOTE_MINIMAL)\n",
        "            writer.writerows(valid_rows)\n",
        "\n",
        "        print(f\"File recovered successfully. Valid data written to '{output_file_name}'\")\n",
        "\n",
        "    except Exception as e:\n",
        "        print(f\"Error: Unable to recover the file. Reason: {str(e)}\")\n",
        "\n",
        "# Example usage\n",
        "recover_csv('inventory.csv', 'recovered_inventory.csv')"
      ],
      "metadata": {
        "id": "EjvSvu5U0b0w",
        "colab": {
          "base_uri": "https://localhost:8080/"
        },
        "outputId": "4338e9a1-e61a-4ff4-c3f3-af3c8b62b7ee"
      },
      "execution_count": 61,
      "outputs": [
        {
          "output_type": "stream",
          "name": "stdout",
          "text": [
            "File recovered successfully. Valid data written to 'recovered_inventory.csv'\n"
          ]
        }
      ]
    },
    {
      "cell_type": "code",
      "source": [
        "import shutil\n",
        "import os\n",
        "\n",
        "# Function to create a backup of a CSV file\n",
        "def create_backup(file_name):\n",
        "    try:\n",
        "        # Create a backup folder if it doesn't exist\n",
        "        if not os.path.exists('backups'):\n",
        "            os.makedirs('backups')\n",
        "\n",
        "        # Define backup file name with timestamp\n",
        "        backup_file_name = f\"backups/{file_name.split('.')[0]}_backup_{datetime.datetime.now().strftime('%Y%m%d%H%M%S')}.csv\"\n",
        "\n",
        "        # Copy the original file to the backup folder\n",
        "        shutil.copy(file_name, backup_file_name)\n",
        "\n",
        "        print(f\"Backup created successfully: {backup_file_name}\")\n",
        "\n",
        "    except Exception as e:\n",
        "        print(f\"Error: Unable to create backup. Reason: {str(e)}\")\n",
        "\n",
        "# Example usage\n",
        "create_backup('inventory.csv')\n"
      ],
      "metadata": {
        "id": "sQ6CxlbF0jr8",
        "colab": {
          "base_uri": "https://localhost:8080/"
        },
        "outputId": "40898267-0ded-474f-99e5-59419c229c5e"
      },
      "execution_count": 62,
      "outputs": [
        {
          "output_type": "stream",
          "name": "stdout",
          "text": [
            "Backup created successfully: backups/inventory_backup_20250202183404.csv\n"
          ]
        }
      ]
    },
    {
      "cell_type": "markdown",
      "source": [
        "**Prompt 10:** Make sure to maintain a minimum of 50 products of different categories in the inventory so that we have sufficient products."
      ],
      "metadata": {
        "id": "1wrjAVPO3Q7a"
      }
    },
    {
      "cell_type": "code",
      "source": [
        "# Function to ensure a minimum number of products in inventory\n",
        "def ensure_min_inventory(inventory, categories, min_inventory=50):\n",
        "    # If the inventory has fewer than the minimum required products, add new products\n",
        "    while len(inventory) < min_inventory:\n",
        "        generate_product_data(categories, inventory)\n",
        "\n",
        "# Function to generate product data (same as earlier)\n",
        "def generate_product_data(categories, inventory):\n",
        "    product_id = len(inventory) + 1\n",
        "    category = random.choice(list(categories.keys()))\n",
        "    product_name = random.choice(categories[category])\n",
        "    quantity = random.randint(5, 50)\n",
        "    price = round(random.uniform(5, 500), 2)\n",
        "\n",
        "    # Add the generated product to the inventory\n",
        "    inventory.append([product_id, category, product_name, quantity, price])\n",
        "\n",
        "# Function to write the inventory to a CSV file\n",
        "def write_inventory_to_csv(inventory, file_name='inventory.csv'):\n",
        "    header = ['Product ID', 'Category', 'Product Name', 'Quantity', 'Price']\n",
        "\n",
        "    try:\n",
        "        with open(file_name, mode='w', newline='') as file:\n",
        "            writer = csv.writer(file, quotechar=\"'\", quoting=csv.QUOTE_MINIMAL)\n",
        "\n",
        "            # Write the header and product data\n",
        "            writer.writerow(header)\n",
        "            writer.writerows(inventory)\n",
        "\n",
        "        print(f\"Inventory written to '{file_name}' successfully.\")\n",
        "\n",
        "    except Exception as e:\n",
        "        print(f\"Error: Unable to write to file '{file_name}'. Reason: {str(e)}\")\n",
        "\n",
        "# Function to print the inventory (for demonstration purposes)\n",
        "def print_inventory(inventory):\n",
        "    for product in inventory:\n",
        "        print(product)\n",
        "\n",
        "# Example Usage\n",
        "\n",
        "# Define product categories and sample products\n",
        "categories = {\n",
        "    'Electronics': ['Laptop', 'Smartphone', 'Headphones', 'Smartwatch', 'Camera'],\n",
        "    'Clothing': ['T-shirt', 'Jeans', 'Jacket', 'Shoes', 'Sweater'],\n",
        "    'Groceries': ['Rice', 'Bread', 'Milk', 'Eggs', 'Apple'],\n",
        "    'Furniture': ['Sofa', 'Chair', 'Table', 'Bed', 'Bookshelf'],\n",
        "    'Stationery': ['Pen', 'Notebook', 'Pencil', 'Eraser', 'Highlighter']\n",
        "}\n",
        "\n",
        "# Create an initial inventory with some products\n",
        "inventory = [\n",
        "    [1, 'Electronics', 'Smartphone', 10, 299.99],\n",
        "    [2, 'Clothing', 'Sweater', 20, 49.99],\n",
        "    [3, 'Clothing', 'Jacket', 0, 99.99],\n",
        "    [4, 'Electronics', 'Headphones', 10, 150.00]\n",
        "]\n",
        "\n",
        "# Ensure there are at least 50 products in the inventory\n",
        "ensure_min_inventory(inventory, categories, min_inventory=50)\n",
        "\n",
        "# Print the current inventory (for demonstration)\n",
        "print(\"Current Inventory:\")\n",
        "print_inventory(inventory)\n",
        "\n",
        "# Write the updated inventory to a CSV file\n",
        "write_inventory_to_csv(inventory)\n"
      ],
      "metadata": {
        "id": "XzIMMb161Oec",
        "colab": {
          "base_uri": "https://localhost:8080/"
        },
        "outputId": "2ec4975a-5274-44d6-970a-3120b4cf8cf2"
      },
      "execution_count": 63,
      "outputs": [
        {
          "output_type": "stream",
          "name": "stdout",
          "text": [
            "Current Inventory:\n",
            "[1, 'Electronics', 'Smartphone', 10, 299.99]\n",
            "[2, 'Clothing', 'Sweater', 20, 49.99]\n",
            "[3, 'Clothing', 'Jacket', 0, 99.99]\n",
            "[4, 'Electronics', 'Headphones', 10, 150.0]\n",
            "[5, 'Groceries', 'Eggs', 43, 31.93]\n",
            "[6, 'Furniture', 'Table', 28, 292.23]\n",
            "[7, 'Clothing', 'T-shirt', 11, 408.78]\n",
            "[8, 'Clothing', 'Jacket', 46, 334.53]\n",
            "[9, 'Furniture', 'Sofa', 21, 143.19]\n",
            "[10, 'Electronics', 'Smartwatch', 50, 256.64]\n",
            "[11, 'Stationery', 'Pencil', 12, 400.15]\n",
            "[12, 'Furniture', 'Table', 39, 336.34]\n",
            "[13, 'Furniture', 'Bed', 33, 375.47]\n",
            "[14, 'Stationery', 'Eraser', 45, 247.7]\n",
            "[15, 'Clothing', 'Sweater', 37, 241.02]\n",
            "[16, 'Electronics', 'Camera', 47, 379.25]\n",
            "[17, 'Groceries', 'Eggs', 25, 75.52]\n",
            "[18, 'Furniture', 'Bookshelf', 30, 284.5]\n",
            "[19, 'Stationery', 'Pen', 45, 7.23]\n",
            "[20, 'Furniture', 'Sofa', 29, 182.51]\n",
            "[21, 'Stationery', 'Pen', 19, 161.11]\n",
            "[22, 'Groceries', 'Eggs', 7, 488.83]\n",
            "[23, 'Clothing', 'Jeans', 30, 201.41]\n",
            "[24, 'Groceries', 'Rice', 50, 174.39]\n",
            "[25, 'Electronics', 'Headphones', 47, 140.94]\n",
            "[26, 'Groceries', 'Milk', 9, 436.87]\n",
            "[27, 'Groceries', 'Eggs', 25, 378.4]\n",
            "[28, 'Furniture', 'Sofa', 46, 471.92]\n",
            "[29, 'Stationery', 'Pencil', 34, 412.4]\n",
            "[30, 'Groceries', 'Apple', 8, 28.25]\n",
            "[31, 'Clothing', 'Sweater', 37, 477.51]\n",
            "[32, 'Groceries', 'Eggs', 35, 359.45]\n",
            "[33, 'Furniture', 'Chair', 20, 480.43]\n",
            "[34, 'Clothing', 'Jeans', 5, 55.89]\n",
            "[35, 'Clothing', 'Jeans', 42, 460.63]\n",
            "[36, 'Stationery', 'Pen', 21, 332.12]\n",
            "[37, 'Furniture', 'Bed', 22, 173.08]\n",
            "[38, 'Stationery', 'Pen', 27, 393.07]\n",
            "[39, 'Furniture', 'Table', 24, 176.51]\n",
            "[40, 'Groceries', 'Apple', 32, 211.07]\n",
            "[41, 'Clothing', 'Jeans', 6, 11.12]\n",
            "[42, 'Stationery', 'Highlighter', 46, 361.37]\n",
            "[43, 'Furniture', 'Bed', 36, 463.56]\n",
            "[44, 'Furniture', 'Table', 21, 281.02]\n",
            "[45, 'Electronics', 'Laptop', 9, 173.98]\n",
            "[46, 'Stationery', 'Highlighter', 12, 327.5]\n",
            "[47, 'Furniture', 'Sofa', 43, 205.88]\n",
            "[48, 'Stationery', 'Pencil', 14, 492.67]\n",
            "[49, 'Furniture', 'Bed', 22, 427.42]\n",
            "[50, 'Electronics', 'Smartphone', 29, 268.19]\n",
            "Inventory written to 'inventory.csv' successfully.\n"
          ]
        }
      ]
    },
    {
      "cell_type": "markdown",
      "source": [
        "# Question 7 (20 points)\n",
        "\n",
        "Create a well desined Python program for a flight booking system. Offer core functions for adding new flights, finding trips, reserving and releasing seating space and creating performance reports. Ensure the system manages edge cases like invalid input, overbooking, and cancellations. Finally, extend the booking system by including advanced features and maintain about 50 flight in the system."
      ],
      "metadata": {
        "id": "290UJiNg2xES"
      }
    },
    {
      "cell_type": "markdown",
      "source": [
        "**Prompt 1:**Creating a well designed python program to display a proper flight booking system and showcasing available flights"
      ],
      "metadata": {
        "id": "UsgMQVMi5BXq"
      }
    },
    {
      "cell_type": "code",
      "source": [
        "# Initial flight data\n",
        "available_flights = {\n",
        "    \"Flight101\": {\"origin\": \"New York\", \"destination\": \"Los Angeles\", \"seats_available\": 50},\n",
        "    \"Flight102\": {\"origin\": \"San Francisco\", \"destination\": \"Chicago\", \"seats_available\": 30},\n",
        "    \"Flight103\": {\"origin\": \"Miami\", \"destination\": \"Dallas\", \"seats_available\": 100}\n",
        "}\n",
        "\n",
        "bookings = {}\n",
        "\n",
        "# Function to display available flights\n",
        "def display_available_flights():\n",
        "    print(\"Available Flights:\")\n",
        "    for flight, details in available_flights.items():\n",
        "        print(f\"{flight}: {details['origin']} to {details['destination']} - Seats Available: {details['seats_available']}\")\n",
        "\n",
        "\n",
        "# Main program flow\n",
        "\n",
        "# Displaying available flights\n",
        "display_available_flights()\n",
        "\n"
      ],
      "metadata": {
        "id": "bjtv_NzE4_pt",
        "colab": {
          "base_uri": "https://localhost:8080/"
        },
        "outputId": "9aa45cbc-bd94-44a9-dd4e-819dd878b346"
      },
      "execution_count": 64,
      "outputs": [
        {
          "output_type": "stream",
          "name": "stdout",
          "text": [
            "Available Flights:\n",
            "Flight101: New York to Los Angeles - Seats Available: 50\n",
            "Flight102: San Francisco to Chicago - Seats Available: 30\n",
            "Flight103: Miami to Dallas - Seats Available: 100\n"
          ]
        }
      ]
    },
    {
      "cell_type": "markdown",
      "source": [
        "**Prompt 2:** Help me to write a code to add new flights and also display the available flights after cancellation"
      ],
      "metadata": {
        "id": "xp9yx-PN_e0c"
      }
    },
    {
      "cell_type": "code",
      "source": [
        "# Function to add new flights\n",
        "def add_flight(flight_id, origin, destination, seats_available):\n",
        "    if flight_id in available_flights:\n",
        "        print(f\"Error: {flight_id} already exists!\")\n",
        "    else:\n",
        "        available_flights[flight_id] = {\"origin\": origin, \"destination\": destination, \"seats_available\": seats_available}\n",
        "        print(f\"New flight {flight_id} added: {origin} to {destination} with {seats_available} seats available.\")\n",
        "\n",
        "# Adding new flights\n",
        "add_flight(\"Flight104\", \"Los Angeles\", \"New York\", 60)\n",
        "add_flight(\"Flight101\", \"Boston\", \"Chicago\", 40)  # Should show error since Flight101 already exists\n",
        "\n",
        "# Displaying available flights after cancellation\n",
        "display_available_flights()"
      ],
      "metadata": {
        "id": "2af-PPOH9Zqz",
        "colab": {
          "base_uri": "https://localhost:8080/"
        },
        "outputId": "f144d2d5-b9d9-469b-da77-b295c906ce3c"
      },
      "execution_count": 65,
      "outputs": [
        {
          "output_type": "stream",
          "name": "stdout",
          "text": [
            "New flight Flight104 added: Los Angeles to New York with 60 seats available.\n",
            "Error: Flight101 already exists!\n",
            "Available Flights:\n",
            "Flight101: New York to Los Angeles - Seats Available: 50\n",
            "Flight102: San Francisco to Chicago - Seats Available: 30\n",
            "Flight103: Miami to Dallas - Seats Available: 100\n",
            "Flight104: Los Angeles to New York - Seats Available: 60\n"
          ]
        }
      ]
    },
    {
      "cell_type": "markdown",
      "source": [
        "**Prompt 3:** Write a function to manaked booking of a flight and display flights after booking"
      ],
      "metadata": {
        "id": "difTJd_t_zwA"
      }
    },
    {
      "cell_type": "code",
      "source": [
        "# Function to book a flight\n",
        "def book_flight(flight_id, num_seats, customer_name):\n",
        "    if flight_id not in available_flights:\n",
        "        print(f\"Error: {flight_id} does not exist!\")\n",
        "        return\n",
        "\n",
        "    if available_flights[flight_id][\"seats_available\"] >= num_seats:\n",
        "        available_flights[flight_id][\"seats_available\"] -= num_seats\n",
        "        bookings[customer_name] = {\"flight\": flight_id, \"seats_booked\": num_seats}\n",
        "        print(f\"Booking successful! {customer_name} has booked {num_seats} seats on {flight_id}.\")\n",
        "    else:\n",
        "        print(f\"Error: Not enough seats available on {flight_id}. Available seats: {available_flights[flight_id]['seats_available']}.\")\n",
        "\n",
        "# Booking a flight\n",
        "book_flight(\"Flight101\", 5, \"John Doe\")\n",
        "book_flight(\"Flight102\", 2, \"Alice Smith\")\n",
        "book_flight(\"Flight103\", 150, \"Bob Brown\")  # Should show an error for overbooking\n",
        "\n",
        "# Displaying available flights after booking\n",
        "display_available_flights()"
      ],
      "metadata": {
        "id": "-w2z_yQO-oE8",
        "colab": {
          "base_uri": "https://localhost:8080/"
        },
        "outputId": "6f6e5b3e-067f-4661-e311-48387e174120"
      },
      "execution_count": 66,
      "outputs": [
        {
          "output_type": "stream",
          "name": "stdout",
          "text": [
            "Booking successful! John Doe has booked 5 seats on Flight101.\n",
            "Booking successful! Alice Smith has booked 2 seats on Flight102.\n",
            "Error: Not enough seats available on Flight103. Available seats: 100.\n",
            "Available Flights:\n",
            "Flight101: New York to Los Angeles - Seats Available: 45\n",
            "Flight102: San Francisco to Chicago - Seats Available: 28\n",
            "Flight103: Miami to Dallas - Seats Available: 100\n",
            "Flight104: Los Angeles to New York - Seats Available: 60\n"
          ]
        }
      ]
    },
    {
      "cell_type": "markdown",
      "source": [
        "**Prompt 4:**Write a code to manage cancellations along with reasoning and releasing seating space"
      ],
      "metadata": {
        "id": "zP3c9yRRAKgh"
      }
    },
    {
      "cell_type": "code",
      "source": [
        "# Function to cancel a booking\n",
        "def cancel_booking(customer_name):\n",
        "    if customer_name in bookings:\n",
        "        flight_id = bookings[customer_name][\"flight\"]\n",
        "        seats_booked = bookings[customer_name][\"seats_booked\"]\n",
        "        available_flights[flight_id][\"seats_available\"] += seats_booked\n",
        "        del bookings[customer_name]\n",
        "        print(f\"Booking canceled for {customer_name}. {seats_booked} seats have been released.\")\n",
        "    else:\n",
        "        print(f\"Error: No booking found for {customer_name}.\")\n",
        "\n",
        "# Canceling a booking\n",
        "cancel_booking(\"John Doe\")\n",
        "cancel_booking(\"Charlie Daniels\")  # Should show error as no booking exists\n",
        "\n",
        "# Displaying available flights after cancellation\n",
        "display_available_flights()"
      ],
      "metadata": {
        "id": "wEKHbZ6s-rZQ",
        "colab": {
          "base_uri": "https://localhost:8080/"
        },
        "outputId": "f9a47987-f26a-4374-f321-834ea488daa1"
      },
      "execution_count": 67,
      "outputs": [
        {
          "output_type": "stream",
          "name": "stdout",
          "text": [
            "Booking canceled for John Doe. 5 seats have been released.\n",
            "Error: No booking found for Charlie Daniels.\n",
            "Available Flights:\n",
            "Flight101: New York to Los Angeles - Seats Available: 50\n",
            "Flight102: San Francisco to Chicago - Seats Available: 28\n",
            "Flight103: Miami to Dallas - Seats Available: 100\n",
            "Flight104: Los Angeles to New York - Seats Available: 60\n"
          ]
        }
      ]
    },
    {
      "cell_type": "markdown",
      "source": [
        "**Prompt 5:** Create the function to generate performance reports"
      ],
      "metadata": {
        "id": "e-RveY2nB96I"
      }
    },
    {
      "cell_type": "code",
      "source": [
        "# Function to generate a performance report\n",
        "def generate_performance_report():\n",
        "    total_bookings = sum([booking[\"seats_booked\"] for booking on bookings.values()])\n",
        "    total_cancellations = 0  # This can be tracked separately if desired\n",
        "\n",
        "    # Generating the available seats report per flight\n",
        "    available_seats_report = {flight_id: details['seats_available'] for flight_id, details in available_flights.items()}\n",
        "\n",
        "    print(\"\\nPerformance Report:\")\n",
        "    print(f\"Total Bookings Made: {total_bookings}\")\n",
        "    print(f\"Total Cancellations Made: {total_cancellations}\")\n",
        "    print(\"Available Seats per Flight:\")\n",
        "\n",
        "    for flight_id, available_seats in available_seats_report.items():\n",
        "        print(f\"{flight_id}: {available_seats} seats available\")\n",
        "\n",
        "# Function to track and update cancellations count (if you want to separately track cancellations)\n",
        "def track_cancellations(customer_name):\n",
        "    if customer_name in bookings:\n",
        "        # Increment cancellation count if a cancellation happens\n",
        "        total_cancellations = 1\n",
        "        print(f\"Booking canceled for {customer_name}.\")\n",
        "        return total_cancellations\n",
        "    else:\n",
        "        print(f\"Error: No booking found for {customer_name}.\")\n",
        "        return 0\n",
        "\n",
        "\n",
        "# Generating the performance report (before bookings)\n",
        "generate_performance_report()\n",
        "\n",
        "\n"
      ],
      "metadata": {
        "id": "BA3P10AaA46x",
        "colab": {
          "base_uri": "https://localhost:8080/",
          "height": 106
        },
        "outputId": "c107c989-161d-4078-fad6-69073df54eaa"
      },
      "execution_count": 68,
      "outputs": [
        {
          "output_type": "error",
          "ename": "SyntaxError",
          "evalue": "invalid syntax. Perhaps you forgot a comma? (<ipython-input-68-d90cc3a9510a>, line 3)",
          "traceback": [
            "\u001b[0;36m  File \u001b[0;32m\"<ipython-input-68-d90cc3a9510a>\"\u001b[0;36m, line \u001b[0;32m3\u001b[0m\n\u001b[0;31m    total_bookings = sum([booking[\"seats_booked\"] for booking on bookings.values()])\u001b[0m\n\u001b[0m                                                      ^\u001b[0m\n\u001b[0;31mSyntaxError\u001b[0m\u001b[0;31m:\u001b[0m invalid syntax. Perhaps you forgot a comma?\n"
          ]
        }
      ]
    },
    {
      "cell_type": "markdown",
      "source": [
        "**Finding error and correcting it**   \n",
        "\n",
        "File \"<ipython-input-87-7e9c8f523a99>\", line 3\n",
        "    total_bookings = sum([booking[\"seats_booked\"] for booking on bookings.values()])\n",
        "                                                      ^\n",
        "SyntaxError: invalid syntax. Perhaps you forgot a comma?\n"
      ],
      "metadata": {
        "id": "WrBPN5YFD3Yx"
      }
    },
    {
      "cell_type": "code",
      "source": [
        "# Function to generate a performance report\n",
        "def generate_performance_report():\n",
        "    total_bookings = sum([booking[\"seats_booked\"] for booking in bookings.values()])\n",
        "    total_cancellations = 0  # This can be tracked separately if desired\n",
        "\n",
        "    # Generating the available seats report per flight\n",
        "    available_seats_report = {flight_id: details['seats_available'] for flight_id, details in available_flights.items()}\n",
        "\n",
        "    print(\"\\nPerformance Report:\")\n",
        "    print(f\"Total Bookings Made: {total_bookings}\")\n",
        "    print(f\"Total Cancellations Made: {total_cancellations}\")\n",
        "    print(\"Available Seats per Flight:\")\n",
        "\n",
        "    for flight_id, available_seats in available_seats_report.items():\n",
        "        print(f\"{flight_id}: {available_seats} seats available\")\n",
        "\n",
        "# Function to track and update cancellations count (if you want to separately track cancellations)\n",
        "def track_cancellations(customer_name):\n",
        "    if customer_name in bookings:\n",
        "        # Increment cancellation count if a cancellation happens\n",
        "        total_cancellations = 1\n",
        "        print(f\"Booking canceled for {customer_name}.\")\n",
        "        return total_cancellations\n",
        "    else:\n",
        "        print(f\"Error: No booking found for {customer_name}.\")\n",
        "        return 0\n",
        "\n",
        "\n",
        "# Generating the performance report (before bookings)\n",
        "generate_performance_report()\n"
      ],
      "metadata": {
        "id": "m-Woiv-iEDm7",
        "colab": {
          "base_uri": "https://localhost:8080/"
        },
        "outputId": "7d1f640d-0af0-4314-e020-48dc428e533d"
      },
      "execution_count": 69,
      "outputs": [
        {
          "output_type": "stream",
          "name": "stdout",
          "text": [
            "\n",
            "Performance Report:\n",
            "Total Bookings Made: 2\n",
            "Total Cancellations Made: 0\n",
            "Available Seats per Flight:\n",
            "Flight101: 50 seats available\n",
            "Flight102: 28 seats available\n",
            "Flight103: 100 seats available\n",
            "Flight104: 60 seats available\n"
          ]
        }
      ]
    },
    {
      "cell_type": "markdown",
      "source": [
        "**Prompt 6** Manage the invalid input by validating seat input and write a python code for that"
      ],
      "metadata": {
        "id": "99kgRj5JEnXi"
      }
    },
    {
      "cell_type": "code",
      "source": [
        "# Function to validate seat input (must be a positive integer)\n",
        "def validate_seat_input(num_seats):\n",
        "    if not isinstance(num_seats, int) or num_seats <= 0:\n",
        "        print(\"Error: Invalid number of seats. Please enter a positive integer.\")\n",
        "        return False\n",
        "    return True\n",
        "\n",
        "# Function to validate flight ID input (must exist in available flights)\n",
        "def validate_flight_input(flight_id):\n",
        "    if flight_id not in available_flights:\n",
        "        print(f\"Error: {flight_id} does not exist!\")\n",
        "        return False\n",
        "    return True\n",
        "\n",
        "# Function to validate customer name input (must be a non-empty string)\n",
        "def validate_customer_input(customer_name):\n",
        "    if not isinstance(customer_name, str) or len(customer_name.strip()) == 0:\n",
        "        print(\"Error: Invalid customer name. Name cannot be empty.\")\n",
        "        return False\n",
        "    return True\n",
        "\n",
        "# Function to validate adding new flight (flight_id must be unique and seats available must be positive)\n",
        "def validate_new_flight_input(flight_id, seats_available):\n",
        "    if flight_id in available_flights:\n",
        "        print(f\"Error: Flight ID {flight_id} already exists.\")\n",
        "        return False\n",
        "    if not isinstance(seats_available, int) or seats_available <= 0:\n",
        "        print(\"Error: Invalid number of seats for the new flight. Please enter a positive integer.\")\n",
        "        return False\n",
        "    return True\n",
        "\n",
        "# Function to book a flight with input validation\n",
        "def book_flight_with_validation(flight_id, num_seats, customer_name):\n",
        "    if validate_flight_input(flight_id) and validate_seat_input(num_seats) and validate_customer_input(customer_name):\n",
        "        if available_flights[flight_id][\"seats_available\"] >= num_seats:\n",
        "            available_flights[flight_id][\"seats_available\"] -= num_seats\n",
        "            bookings[customer_name] = {\"flight\": flight_id, \"seats_booked\": num_seats}\n",
        "            print(f\"Booking successful! {customer_name} has booked {num_seats} seats on {flight_id}.\")\n",
        "        else:\n",
        "            print(f\"Error: Not enough seats available on {flight_id}. Available seats: {available_flights[flight_id]['seats_available']}.\")\n",
        "    else:\n",
        "        print(\"Booking failed due to invalid input.\")\n",
        "\n",
        "# Function to add a new flight with input validation\n",
        "def add_flight_with_validation(flight_id, origin, destination, seats_available):\n",
        "    if validate_new_flight_input(flight_id, seats_available):\n",
        "        available_flights[flight_id] = {\"origin\": origin, \"destination\": destination, \"seats_available\": seats_available}\n",
        "        print(f\"New flight {flight_id} added: {origin} to {destination} with {seats_available} seats available.\")\n",
        "    else:\n",
        "        print(f\"Error: Flight {flight_id} could not be added due to invalid input.\")\n",
        "\n",
        "# Function to cancel a booking with input validation\n",
        "def cancel_booking_with_validation(customer_name):\n",
        "    if validate_customer_input(customer_name):\n",
        "        if customer_name in bookings:\n",
        "            flight_id = bookings[customer_name][\"flight\"]\n",
        "            seats_booked = bookings[customer_name][\"seats_booked\"]\n",
        "            available_flights[flight_id][\"seats_available\"] += seats_booked\n",
        "            del bookings[customer_name]\n",
        "            print(f\"Booking canceled for {customer_name}. {seats_booked} seats have been released.\")\n",
        "        else:\n",
        "            print(f\"Error: No booking found for {customer_name}.\")\n",
        "    else:\n",
        "        print(\"Cancellation failed due to invalid customer input.\")\n",
        "\n",
        "# Main Program Flow (Continued)\n",
        "\n",
        "# Displaying available flights\n",
        "display_available_flights()  # Display available flights\n",
        "\n",
        "# Adding new flight with input validation\n",
        "add_flight_with_validation(\"Flight105\", \"Seattle\", \"Boston\", 50)\n",
        "add_flight_with_validation(\"Flight101\", \"Boston\", \"Chicago\", -10)  # Invalid seats available\n",
        "\n",
        "# Displaying available flights after adding a new flight\n",
        "display_available_flights()\n",
        "\n",
        "# Booking flights with validation\n",
        "book_flight_with_validation(\"Flight101\", 5, \"John Doe\")\n",
        "book_flight_with_validation(\"Flight102\", 3, \"Alice Smith\")\n",
        "book_flight_with_validation(\"Flight103\", 150, \"Charlie Brown\")  # Invalid booking, exceeds available seats\n",
        "\n",
        "# Displaying available flights after bookings\n",
        "display_available_flights()\n",
        "\n",
        "# Canceling bookings with validation\n",
        "cancel_booking_with_validation(\"John Doe\")\n",
        "cancel_booking_with_validation(\"NonExistent Customer\")  # Invalid customer name\n"
      ],
      "metadata": {
        "id": "V4vMLqVmEN18",
        "colab": {
          "base_uri": "https://localhost:8080/"
        },
        "outputId": "98bf199a-a200-4c7b-fdce-f77de82ec602"
      },
      "execution_count": 70,
      "outputs": [
        {
          "output_type": "stream",
          "name": "stdout",
          "text": [
            "Available Flights:\n",
            "Flight101: New York to Los Angeles - Seats Available: 50\n",
            "Flight102: San Francisco to Chicago - Seats Available: 28\n",
            "Flight103: Miami to Dallas - Seats Available: 100\n",
            "Flight104: Los Angeles to New York - Seats Available: 60\n",
            "New flight Flight105 added: Seattle to Boston with 50 seats available.\n",
            "Error: Flight ID Flight101 already exists.\n",
            "Error: Flight Flight101 could not be added due to invalid input.\n",
            "Available Flights:\n",
            "Flight101: New York to Los Angeles - Seats Available: 50\n",
            "Flight102: San Francisco to Chicago - Seats Available: 28\n",
            "Flight103: Miami to Dallas - Seats Available: 100\n",
            "Flight104: Los Angeles to New York - Seats Available: 60\n",
            "Flight105: Seattle to Boston - Seats Available: 50\n",
            "Booking successful! John Doe has booked 5 seats on Flight101.\n",
            "Booking successful! Alice Smith has booked 3 seats on Flight102.\n",
            "Error: Not enough seats available on Flight103. Available seats: 100.\n",
            "Available Flights:\n",
            "Flight101: New York to Los Angeles - Seats Available: 45\n",
            "Flight102: San Francisco to Chicago - Seats Available: 25\n",
            "Flight103: Miami to Dallas - Seats Available: 100\n",
            "Flight104: Los Angeles to New York - Seats Available: 60\n",
            "Flight105: Seattle to Boston - Seats Available: 50\n",
            "Booking canceled for John Doe. 5 seats have been released.\n",
            "Error: No booking found for NonExistent Customer.\n"
          ]
        }
      ]
    },
    {
      "cell_type": "markdown",
      "source": [
        "**Prompt 7:** Write a python code to track the overbooked flights and manage overbooking"
      ],
      "metadata": {
        "id": "W-dhbxLeFl0W"
      }
    },
    {
      "cell_type": "code",
      "source": [
        "# Dictionary to track the overbooked flights\n",
        "overbooked_flights = {}\n",
        "\n",
        "# Function to manage overbooking and book a flight\n",
        "def book_flight_with_overbooking_management(flight_id, num_seats, customer_name):\n",
        "    if validate_flight_input(flight_id) and validate_seat_input(num_seats) and validate_customer_input(customer_name):\n",
        "        available_seats = available_flights[flight_id][\"seats_available\"]\n",
        "\n",
        "        # Check if there are enough seats available\n",
        "        if num_seats <= available_seats:\n",
        "            available_flights[flight_id][\"seats_available\"] -= num_seats\n",
        "            bookings[customer_name] = {\"flight\": flight_id, \"seats_booked\": num_seats}\n",
        "            print(f\"Booking successful! {customer_name} has booked {num_seats} seats on {flight_id}.\")\n",
        "        else:\n",
        "            # Flight is overbooked, can't proceed with booking\n",
        "            print(f\"Error: Not enough seats available on {flight_id}. Available seats: {available_seats}.\")\n",
        "\n",
        "            # Track overbooked flight\n",
        "            if flight_id not in overbooked_flights:\n",
        "                overbooked_flights[flight_id] = {\"seats_requested\": num_seats, \"seats_available\": available_seats}\n",
        "                print(f\"Flight {flight_id} is now overbooked. Seats requested: {num_seats}, Available seats: {available_seats}.\")\n",
        "            else:\n",
        "                overbooked_flights[flight_id][\"seats_requested\"] += num_seats\n",
        "            print(f\"Overbooking detected. {flight_id} has been added to overbooked flights.\")\n",
        "\n",
        "# Function to display overbooked flights\n",
        "def display_overbooked_flights():\n",
        "    if overbooked_flights:\n",
        "        print(\"\\nOverbooked Flights:\")\n",
        "        for flight_id, details in overbooked_flights.items():\n",
        "            print(f\"Flight {flight_id}: Requested seats: {details['seats_requested']}, Available seats: {details['seats_available']}\")\n",
        "    else:\n",
        "        print(\"\\nNo overbooked flights.\")\n",
        "\n",
        "# Main Program Flow (Continued)\n",
        "\n",
        "# Displaying available flights\n",
        "display_available_flights()  # Display available flights\n",
        "\n",
        "# Making bookings and managing overbooking\n",
        "book_flight_with_overbooking_management(\"Flight101\", 5, \"John Doe\")  # Valid booking\n",
        "book_flight_with_overbooking_management(\"Flight102\", 50, \"Alice Smith\")  # Invalid booking (exceeds available seats)\n",
        "book_flight_with_overbooking_management(\"Flight103\", 150, \"Charlie Brown\")  # Invalid booking (exceeds available seats)\n",
        "book_flight_with_overbooking_management(\"Flight104\", 10, \"David Johnson\")  # New flight with overbooking scenario\n",
        "\n",
        "# Displaying overbooked flights\n",
        "display_overbooked_flights()\n",
        "\n",
        "# Displaying available flights after bookings\n",
        "display_available_flights()\n"
      ],
      "metadata": {
        "id": "NJO39hrIE4cp",
        "colab": {
          "base_uri": "https://localhost:8080/"
        },
        "outputId": "efdbb129-8ede-4116-f75c-069832eb3a20"
      },
      "execution_count": 71,
      "outputs": [
        {
          "output_type": "stream",
          "name": "stdout",
          "text": [
            "Available Flights:\n",
            "Flight101: New York to Los Angeles - Seats Available: 50\n",
            "Flight102: San Francisco to Chicago - Seats Available: 25\n",
            "Flight103: Miami to Dallas - Seats Available: 100\n",
            "Flight104: Los Angeles to New York - Seats Available: 60\n",
            "Flight105: Seattle to Boston - Seats Available: 50\n",
            "Booking successful! John Doe has booked 5 seats on Flight101.\n",
            "Error: Not enough seats available on Flight102. Available seats: 25.\n",
            "Flight Flight102 is now overbooked. Seats requested: 50, Available seats: 25.\n",
            "Overbooking detected. Flight102 has been added to overbooked flights.\n",
            "Error: Not enough seats available on Flight103. Available seats: 100.\n",
            "Flight Flight103 is now overbooked. Seats requested: 150, Available seats: 100.\n",
            "Overbooking detected. Flight103 has been added to overbooked flights.\n",
            "Booking successful! David Johnson has booked 10 seats on Flight104.\n",
            "\n",
            "Overbooked Flights:\n",
            "Flight Flight102: Requested seats: 50, Available seats: 25\n",
            "Flight Flight103: Requested seats: 150, Available seats: 100\n",
            "Available Flights:\n",
            "Flight101: New York to Los Angeles - Seats Available: 45\n",
            "Flight102: San Francisco to Chicago - Seats Available: 25\n",
            "Flight103: Miami to Dallas - Seats Available: 100\n",
            "Flight104: Los Angeles to New York - Seats Available: 50\n",
            "Flight105: Seattle to Boston - Seats Available: 50\n"
          ]
        }
      ]
    },
    {
      "cell_type": "markdown",
      "source": [
        "**Finding error and correcting it**\n",
        "\n",
        "NameError                                 Traceback (most recent call last)\n",
        "<ipython-input-89-6497d8ebe8f8> in <cell line: 0>()\n",
        "     39\n",
        "     40 # Making bookings and managing overbooking\n",
        "---> 41 book_flight_with_overbooking_management(\"Flight101\", 5, \"John Doe\")  # Valid booking\n",
        "     42 book_flight_with_overbooking_management(\"Flight102\", 50, \"Alice Smith\")  # Invalid booking (exceeds available seats)\n",
        "     43 book_flight_with_overbooking_management(\"Flight103\", 150, \"Charlie Brown\")  # Invalid booking (exceeds available seats)\n",
        "\n",
        "<ipython-input-89-6497d8ebe8f8> in book_flight_with_overbooking_management(flight_id, num_seats, customer_name)\n",
        "      4 # Function to manage overbooking and book a flight\n",
        "      5 def book_flight_with_overbooking_management(flight_id, num_seats, customer_name):\n",
        "----> 6     if validate_flight_input(flight_id) and validate_seat_input(num_seats) and validate_customer_input(customer_name):\n",
        "      7         available_seats = available_flights[flight_id][\"seats_available\"]\n",
        "      8\n",
        "\n",
        "NameError: name 'validate_flight_input' is not defined"
      ],
      "metadata": {
        "id": "-a3go7XrF00E"
      }
    },
    {
      "cell_type": "code",
      "source": [
        "overbooked_flights = {}  # Dictionary to track overbooked flights\n",
        "\n",
        "# Function to validate flight ID input\n",
        "def validate_flight_input(flight_id):\n",
        "    if flight_id not in available_flights:\n",
        "        print(f\"Error: {flight_id} does not exist!\")\n",
        "        return False\n",
        "    return True\n",
        "\n",
        "# Function to validate seat input (must be a positive integer)\n",
        "def validate_seat_input(num_seats):\n",
        "    if not isinstance(num_seats, int) or num_seats <= 0:\n",
        "        print(\"Error: Invalid number of seats. Please enter a positive integer.\")\n",
        "        return False\n",
        "    return True\n",
        "\n",
        "# Function to validate customer name input (must be a non-empty string)\n",
        "def validate_customer_input(customer_name):\n",
        "    if not isinstance(customer_name, str) or len(customer_name.strip()) == 0:\n",
        "        print(\"Error: Invalid customer name. Name cannot be empty.\")\n",
        "        return False\n",
        "    return True\n",
        "\n",
        "# Function to manage overbooking and book a flight\n",
        "def book_flight_with_overbooking_management(flight_id, num_seats, customer_name):\n",
        "    if validate_flight_input(flight_id) and validate_seat_input(num_seats) and validate_customer_input(customer_name):\n",
        "        available_seats = available_flights[flight_id][\"seats_available\"]\n",
        "\n",
        "        # Check if there are enough seats available\n",
        "        if num_seats <= available_seats:\n",
        "            available_flights[flight_id][\"seats_available\"] -= num_seats\n",
        "            bookings[customer_name] = {\"flight\": flight_id, \"seats_booked\": num_seats}\n",
        "            print(f\"Booking successful! {customer_name} has booked {num_seats} seats on {flight_id}.\")\n",
        "        else:\n",
        "            # Flight is overbooked, can't proceed with booking\n",
        "            print(f\"Error: Not enough seats available on {flight_id}. Available seats: {available_seats}.\")\n",
        "\n",
        "            # Track overbooked flight\n",
        "            if flight_id not in overbooked_flights:\n",
        "                overbooked_flights[flight_id] = {\"seats_requested\": num_seats, \"seats_available\": available_seats}\n",
        "                print(f\"Flight {flight_id} is now overbooked. Seats requested: {num_seats}, Available seats: {available_seats}.\")\n",
        "            else:\n",
        "                overbooked_flights[flight_id][\"seats_requested\"] += num_seats\n",
        "            print(f\"Overbooking detected. {flight_id} has been added to overbooked flights.\")\n",
        "\n",
        "# Function to display overbooked flights\n",
        "def display_overbooked_flights():\n",
        "    if overbooked_flights:\n",
        "        print(\"\\nOverbooked Flights:\")\n",
        "        for flight_id, details in overbooked_flights.items():\n",
        "            print(f\"Flight {flight_id}: Requested seats: {details['seats_requested']}, Available seats: {details['seats_available']}\")\n",
        "    else:\n",
        "        print(\"\\nNo overbooked flights.\")\n",
        "\n",
        "# Function to display available flights\n",
        "def display_available_flights():\n",
        "    print(\"Available Flights:\")\n",
        "    for flight_id, details in available_flights.items():\n",
        "        print(f\"{flight_id}: {details['origin']} to {details['destination']} - Seats Available: {details['seats_available']}\")\n",
        "\n",
        "# Main Program Flow (Continued)\n",
        "\n",
        "# Displaying available flights\n",
        "display_available_flights()  # Display available flights\n",
        "\n",
        "# Making bookings and managing overbooking\n",
        "book_flight_with_overbooking_management(\"Flight101\", 5, \"John Doe\")  # Valid booking\n",
        "book_flight_with_overbooking_management(\"Flight102\", 50, \"Alice Smith\")  # Invalid booking (exceeds available seats)\n",
        "book_flight_with_overbooking_management(\"Flight103\", 150, \"Charlie Brown\")  # Invalid booking (exceeds available seats)\n",
        "\n",
        "# Displaying overbooked flights\n",
        "display_overbooked_flights()\n",
        "\n",
        "# Displaying available flights after bookings\n",
        "display_available_flights()"
      ],
      "metadata": {
        "id": "71pDTrgRFcfL",
        "colab": {
          "base_uri": "https://localhost:8080/"
        },
        "outputId": "5b794de7-866b-403e-e9c9-fb5bf9e01940"
      },
      "execution_count": 72,
      "outputs": [
        {
          "output_type": "stream",
          "name": "stdout",
          "text": [
            "Available Flights:\n",
            "Flight101: New York to Los Angeles - Seats Available: 45\n",
            "Flight102: San Francisco to Chicago - Seats Available: 25\n",
            "Flight103: Miami to Dallas - Seats Available: 100\n",
            "Flight104: Los Angeles to New York - Seats Available: 50\n",
            "Flight105: Seattle to Boston - Seats Available: 50\n",
            "Booking successful! John Doe has booked 5 seats on Flight101.\n",
            "Error: Not enough seats available on Flight102. Available seats: 25.\n",
            "Flight Flight102 is now overbooked. Seats requested: 50, Available seats: 25.\n",
            "Overbooking detected. Flight102 has been added to overbooked flights.\n",
            "Error: Not enough seats available on Flight103. Available seats: 100.\n",
            "Flight Flight103 is now overbooked. Seats requested: 150, Available seats: 100.\n",
            "Overbooking detected. Flight103 has been added to overbooked flights.\n",
            "\n",
            "Overbooked Flights:\n",
            "Flight Flight102: Requested seats: 50, Available seats: 25\n",
            "Flight Flight103: Requested seats: 150, Available seats: 100\n",
            "Available Flights:\n",
            "Flight101: New York to Los Angeles - Seats Available: 40\n",
            "Flight102: San Francisco to Chicago - Seats Available: 25\n",
            "Flight103: Miami to Dallas - Seats Available: 100\n",
            "Flight104: Los Angeles to New York - Seats Available: 50\n",
            "Flight105: Seattle to Boston - Seats Available: 50\n"
          ]
        }
      ]
    },
    {
      "cell_type": "markdown",
      "source": [
        "**Prompt 8** Extending the booking system by including additional information like price, class and duration of a flight"
      ],
      "metadata": {
        "id": "aEQ5YTU1IeoF"
      }
    },
    {
      "cell_type": "code",
      "source": [
        "# Extending the available flights to include additional information like price, class, and duration\n",
        "available_flights = {\n",
        "    \"Flight101\": {\n",
        "        \"origin\": \"New York\",\n",
        "        \"destination\": \"Los Angeles\",\n",
        "        \"seats_available\": 50,\n",
        "        \"price\": 200,  # price in USD\n",
        "        \"class\": \"Economy\",\n",
        "        \"duration\": \"5 hours\",\n",
        "        \"amenities\": [\"Wi-Fi\", \"Snacks\"]\n",
        "    },\n",
        "    \"Flight102\": {\n",
        "        \"origin\": \"San Francisco\",\n",
        "        \"destination\": \"Chicago\",\n",
        "        \"seats_available\": 26,\n",
        "        \"price\": 180,\n",
        "        \"class\": \"Economy\",\n",
        "        \"duration\": \"4 hours\",\n",
        "        \"amenities\": [\"Wi-Fi\", \"Beverages\"]\n",
        "    },\n",
        "    \"Flight103\": {\n",
        "        \"origin\": \"Miami\",\n",
        "        \"destination\": \"Dallas\",\n",
        "        \"seats_available\": 80,\n",
        "        \"price\": 250,\n",
        "        \"class\": \"Business\",\n",
        "        \"duration\": \"2 hours 30 minutes\",\n",
        "        \"amenities\": [\"Wi-Fi\", \"Premium Meals\"]\n",
        "    },\n",
        "    \"Flight104\": {\n",
        "        \"origin\": \"Los Angeles\",\n",
        "        \"destination\": \"New York\",\n",
        "        \"seats_available\": 60,\n",
        "        \"price\": 220,\n",
        "        \"class\": \"Economy\",\n",
        "        \"duration\": \"6 hours\",\n",
        "        \"amenities\": [\"Wi-Fi\"]\n",
        "    },\n",
        "    \"Flight105\": {\n",
        "        \"origin\": \"Dallas\",\n",
        "        \"destination\": \"Seattle\",\n",
        "        \"seats_available\": 80,\n",
        "        \"price\": 210,\n",
        "        \"class\": \"Business\",\n",
        "        \"duration\": \"3 hours\",\n",
        "        \"amenities\": [\"Wi-Fi\", \"Premium Meals\"]\n",
        "    }\n",
        "}\n",
        "\n",
        "# Dictionary to track customer information (including contact details)\n",
        "customers = {\n",
        "    \"John Doe\": {\"contact\": \"john.doe@example.com\", \"premium_member\": False},\n",
        "    \"Alice Smith\": {\"contact\": \"alice.smith@example.com\", \"premium_member\": True},  # Premium member example\n",
        "    \"Charlie Brown\": {\"contact\": \"charlie.brown@example.com\", \"premium_member\": False},\n",
        "    \"David Johnson\": {\"contact\": \"david.johnson@example.com\", \"premium_member\": True}\n",
        "}\n",
        "\n",
        "# Function to display flight details (including price, class, duration, amenities)\n",
        "def display_flight_details(flight_id):\n",
        "    if flight_id in available_flights:\n",
        "        flight = available_flights[flight_id]\n",
        "        print(f\"Flight ID: {flight_id}\")\n",
        "        print(f\"Origin: {flight['origin']} | Destination: {flight['destination']}\")\n",
        "        print(f\"Seats Available: {flight['seats_available']}\")\n",
        "        print(f\"Price: ${flight['price']}\")\n",
        "        print(f\"Class: {flight['class']}\")\n",
        "        print(f\"Duration: {flight['duration']}\")\n",
        "        print(f\"Amenities: {', '.join(flight['amenities'])}\")\n",
        "        print()\n",
        "\n",
        "# Function to cancel a booking\n",
        "def cancel_booking(customer_name):\n",
        "    if customer_name in bookings:\n",
        "        flight_id = bookings[customer_name][\"flight\"]\n",
        "        num_seats = bookings[customer_name][\"seats_booked\"]\n",
        "\n",
        "        # Free up seats on the flight\n",
        "        available_flights[flight_id][\"seats_available\"] += num_seats\n",
        "        print(f\"Booking canceled for {customer_name}. {num_seats} seats on {flight_id} are now available again.\")\n",
        "\n",
        "        # Remove customer booking\n",
        "        del bookings[customer_name]\n",
        "    else:\n",
        "        print(f\"Error: No booking found for {customer_name}.\")\n",
        "\n",
        "# Function to handle priority booking for premium customers\n",
        "def priority_booking(flight_id, num_seats, customer_name):\n",
        "    if customer_name in customers and customers[customer_name][\"premium_member\"]:\n",
        "        # Premium members can book regardless of available seats, but we'll still track it\n",
        "        print(f\"Priority booking granted for {customer_name}. Booking {num_seats} seats on {flight_id}.\")\n",
        "        available_flights[flight_id][\"seats_available\"] -= num_seats\n",
        "        bookings[customer_name] = {\"flight\": flight_id, \"seats_booked\": num_seats}\n",
        "    else:\n",
        "        print(f\"Priority booking not available for {customer_name}. Booking normally.\")\n",
        "        book_flight_with_overbooking_management(flight_id, num_seats, customer_name)\n",
        "\n",
        "# Function to display all customer bookings (including flight and seats)\n",
        "def display_customer_bookings():\n",
        "    if bookings:\n",
        "        print(\"\\nCustomer Bookings:\")\n",
        "        for customer_name, booking in bookings.items():\n",
        "            print(f\"{customer_name} - Flight {booking['flight']}, Seats booked: {booking['seats_booked']}\")\n",
        "    else:\n",
        "        print(\"\\nNo bookings found.\")\n",
        "\n",
        "# Main Program Flow (Continued)\n",
        "\n",
        "# Displaying available flight details\n",
        "display_flight_details(\"Flight101\")\n",
        "display_flight_details(\"Flight102\")\n",
        "display_flight_details(\"Flight103\")\n",
        "display_flight_details(\"Flight104\")\n",
        "display_flight_details(\"Flight105\")\n",
        "\n",
        "# Making bookings and cancellations (including priority booking for premium members)\n",
        "book_flight_with_overbooking_management(\"Flight101\", 5, \"John Doe\")  # Regular booking\n",
        "priority_booking(\"Flight103\", 10, \"Alice Smith\")  # Priority booking for premium member\n",
        "book_flight_with_overbooking_management(\"Flight102\", 50, \"Charlie Brown\")  # Regular booking with overbooking\n",
        "book_flight_with_overbooking_management(\"Flight105\", 10, \"David Johnson\")  # Regular booking\n",
        "cancel_booking(\"Charlie Brown\")  # Canceling a booking\n",
        "\n",
        "# Displaying all bookings\n",
        "display_customer_bookings()\n",
        "\n",
        "# Displaying available flights after bookings and cancellations\n",
        "display_available_flights()\n"
      ],
      "metadata": {
        "id": "JZYG2R6GHO4O",
        "colab": {
          "base_uri": "https://localhost:8080/"
        },
        "outputId": "aab1639e-1fbb-4d1b-8a74-dc28b9cfe7cb"
      },
      "execution_count": 73,
      "outputs": [
        {
          "output_type": "stream",
          "name": "stdout",
          "text": [
            "Flight ID: Flight101\n",
            "Origin: New York | Destination: Los Angeles\n",
            "Seats Available: 50\n",
            "Price: $200\n",
            "Class: Economy\n",
            "Duration: 5 hours\n",
            "Amenities: Wi-Fi, Snacks\n",
            "\n",
            "Flight ID: Flight102\n",
            "Origin: San Francisco | Destination: Chicago\n",
            "Seats Available: 26\n",
            "Price: $180\n",
            "Class: Economy\n",
            "Duration: 4 hours\n",
            "Amenities: Wi-Fi, Beverages\n",
            "\n",
            "Flight ID: Flight103\n",
            "Origin: Miami | Destination: Dallas\n",
            "Seats Available: 80\n",
            "Price: $250\n",
            "Class: Business\n",
            "Duration: 2 hours 30 minutes\n",
            "Amenities: Wi-Fi, Premium Meals\n",
            "\n",
            "Flight ID: Flight104\n",
            "Origin: Los Angeles | Destination: New York\n",
            "Seats Available: 60\n",
            "Price: $220\n",
            "Class: Economy\n",
            "Duration: 6 hours\n",
            "Amenities: Wi-Fi\n",
            "\n",
            "Flight ID: Flight105\n",
            "Origin: Dallas | Destination: Seattle\n",
            "Seats Available: 80\n",
            "Price: $210\n",
            "Class: Business\n",
            "Duration: 3 hours\n",
            "Amenities: Wi-Fi, Premium Meals\n",
            "\n",
            "Booking successful! John Doe has booked 5 seats on Flight101.\n",
            "Priority booking granted for Alice Smith. Booking 10 seats on Flight103.\n",
            "Error: Not enough seats available on Flight102. Available seats: 26.\n",
            "Overbooking detected. Flight102 has been added to overbooked flights.\n",
            "Booking successful! David Johnson has booked 10 seats on Flight105.\n",
            "Error: No booking found for Charlie Brown.\n",
            "\n",
            "Customer Bookings:\n",
            "Alice Smith - Flight Flight103, Seats booked: 10\n",
            "John Doe - Flight Flight101, Seats booked: 5\n",
            "David Johnson - Flight Flight105, Seats booked: 10\n",
            "Available Flights:\n",
            "Flight101: New York to Los Angeles - Seats Available: 45\n",
            "Flight102: San Francisco to Chicago - Seats Available: 26\n",
            "Flight103: Miami to Dallas - Seats Available: 70\n",
            "Flight104: Los Angeles to New York - Seats Available: 60\n",
            "Flight105: Dallas to Seattle - Seats Available: 70\n"
          ]
        }
      ]
    },
    {
      "cell_type": "markdown",
      "source": [
        "**Prompt 9:** Updating the passenger information to test error handling"
      ],
      "metadata": {
        "id": "7yMoDNO2Jpa0"
      }
    },
    {
      "cell_type": "code",
      "source": [
        "# Function to update passenger information (name, contact info, premium membership status)\n",
        "def update_passenger_info(customer_name, new_contact=None, new_premium_status=None):\n",
        "    if customer_name in customers:\n",
        "        if new_contact:\n",
        "            customers[customer_name][\"contact\"] = new_contact\n",
        "            print(f\"Contact information updated for {customer_name}. New contact: {new_contact}\")\n",
        "\n",
        "        if new_premium_status is not None:\n",
        "            customers[customer_name][\"premium_member\"] = new_premium_status\n",
        "            status = \"Premium\" if new_premium_status else \"Regular\"\n",
        "            print(f\"Premium membership status updated for {customer_name}. New status: {status}\")\n",
        "    else:\n",
        "        print(f\"Error: No customer found with the name {customer_name}.\")\n",
        "\n",
        "# Example Usage of the Update Feature\n",
        "\n",
        "# Update contact info for an existing customer\n",
        "update_passenger_info(\"John Doe\", new_contact=\"john.doe@newmail.com\")\n",
        "\n",
        "# Upgrade a regular customer to a premium member\n",
        "update_passenger_info(\"Charlie Brown\", new_premium_status=True)\n",
        "\n",
        "# Try to update a non-existing customer (to test error handling)\n",
        "update_passenger_info(\"Non Existing Customer\", new_contact=\"non.existing@example.com\")\n",
        "\n",
        "# Display updated customer details\n",
        "print(\"\\nUpdated Customer Details:\")\n",
        "for customer_name, details in customers.items():\n",
        "    print(f\"{customer_name} - Contact: {details['contact']}, Premium Member: {details['premium_member']}\")\n"
      ],
      "metadata": {
        "id": "FOPvA_XTJjjT",
        "colab": {
          "base_uri": "https://localhost:8080/"
        },
        "outputId": "529547e7-4fd6-420d-b03d-62a715033f4b"
      },
      "execution_count": 74,
      "outputs": [
        {
          "output_type": "stream",
          "name": "stdout",
          "text": [
            "Contact information updated for John Doe. New contact: john.doe@newmail.com\n",
            "Premium membership status updated for Charlie Brown. New status: Premium\n",
            "Error: No customer found with the name Non Existing Customer.\n",
            "\n",
            "Updated Customer Details:\n",
            "John Doe - Contact: john.doe@newmail.com, Premium Member: False\n",
            "Alice Smith - Contact: alice.smith@example.com, Premium Member: True\n",
            "Charlie Brown - Contact: charlie.brown@example.com, Premium Member: True\n",
            "David Johnson - Contact: david.johnson@example.com, Premium Member: True\n"
          ]
        }
      ]
    },
    {
      "cell_type": "markdown",
      "source": [
        "**Prompt 10:** I want to maintain about 50 flights in the system, help me get the code for it"
      ],
      "metadata": {
        "id": "FUCXbna5J3am"
      }
    },
    {
      "cell_type": "code",
      "source": [
        "import builtins  # Import builtins module to access original 'range'\n",
        "\n",
        "# Function to always set exactly 50 flights in the system\n",
        "def maintain_minimum_flights():\n",
        "    global available_flights\n",
        "\n",
        "    # Generate exactly 50 flights using dictionary comprehension\n",
        "    available_flights = {\n",
        "        f\"Flight{str(flight_num).zfill(3)}\": {\n",
        "            \"origin\": f\"City{flight_num}\",\n",
        "            \"destination\": f\"City{(flight_num + 10) % 100}\",\n",
        "            \"seats_available\": 100,\n",
        "            \"price\": 200 + (flight_num % 50),\n",
        "            \"class\": \"Economy\" if flight_num % 2 == 0 else \"Business\",\n",
        "            \"duration\": f\"{(flight_num % 6) + 2} hours\",\n",
        "            \"amenities\": [\"Wi-Fi\", \"Snacks\"] if flight_num % 2 == 0 else [\"Wi-Fi\", \"Premium Meals\"]\n",
        "        }\n",
        "        for flight_num in builtins.range(1, 51)  # Always generates 50 flights (Flight001 to Flight050)\n",
        "    }\n",
        "\n",
        "# Fix: Restore Python's built-in range function if it was accidentally reassigned\n",
        "try:\n",
        "    del range\n",
        "except NameError:\n",
        "    pass  # No conflict found\n",
        "\n",
        "# Call function to overwrite and set exactly 50 flights\n",
        "maintain_minimum_flights()\n",
        "\n",
        "# Display a sample of flights (first 10 for brevity)\n",
        "for flight_id, details in list(available_flights.items())[:50]:\n",
        "    print(flight_id, details)\n"
      ],
      "metadata": {
        "id": "35WH9uWWKAr9",
        "colab": {
          "base_uri": "https://localhost:8080/"
        },
        "outputId": "63c12810-6750-4fa2-9d32-cfa1e3afcf0a"
      },
      "execution_count": 75,
      "outputs": [
        {
          "output_type": "stream",
          "name": "stdout",
          "text": [
            "Flight001 {'origin': 'City1', 'destination': 'City11', 'seats_available': 100, 'price': 201, 'class': 'Business', 'duration': '3 hours', 'amenities': ['Wi-Fi', 'Premium Meals']}\n",
            "Flight002 {'origin': 'City2', 'destination': 'City12', 'seats_available': 100, 'price': 202, 'class': 'Economy', 'duration': '4 hours', 'amenities': ['Wi-Fi', 'Snacks']}\n",
            "Flight003 {'origin': 'City3', 'destination': 'City13', 'seats_available': 100, 'price': 203, 'class': 'Business', 'duration': '5 hours', 'amenities': ['Wi-Fi', 'Premium Meals']}\n",
            "Flight004 {'origin': 'City4', 'destination': 'City14', 'seats_available': 100, 'price': 204, 'class': 'Economy', 'duration': '6 hours', 'amenities': ['Wi-Fi', 'Snacks']}\n",
            "Flight005 {'origin': 'City5', 'destination': 'City15', 'seats_available': 100, 'price': 205, 'class': 'Business', 'duration': '7 hours', 'amenities': ['Wi-Fi', 'Premium Meals']}\n",
            "Flight006 {'origin': 'City6', 'destination': 'City16', 'seats_available': 100, 'price': 206, 'class': 'Economy', 'duration': '2 hours', 'amenities': ['Wi-Fi', 'Snacks']}\n",
            "Flight007 {'origin': 'City7', 'destination': 'City17', 'seats_available': 100, 'price': 207, 'class': 'Business', 'duration': '3 hours', 'amenities': ['Wi-Fi', 'Premium Meals']}\n",
            "Flight008 {'origin': 'City8', 'destination': 'City18', 'seats_available': 100, 'price': 208, 'class': 'Economy', 'duration': '4 hours', 'amenities': ['Wi-Fi', 'Snacks']}\n",
            "Flight009 {'origin': 'City9', 'destination': 'City19', 'seats_available': 100, 'price': 209, 'class': 'Business', 'duration': '5 hours', 'amenities': ['Wi-Fi', 'Premium Meals']}\n",
            "Flight010 {'origin': 'City10', 'destination': 'City20', 'seats_available': 100, 'price': 210, 'class': 'Economy', 'duration': '6 hours', 'amenities': ['Wi-Fi', 'Snacks']}\n",
            "Flight011 {'origin': 'City11', 'destination': 'City21', 'seats_available': 100, 'price': 211, 'class': 'Business', 'duration': '7 hours', 'amenities': ['Wi-Fi', 'Premium Meals']}\n",
            "Flight012 {'origin': 'City12', 'destination': 'City22', 'seats_available': 100, 'price': 212, 'class': 'Economy', 'duration': '2 hours', 'amenities': ['Wi-Fi', 'Snacks']}\n",
            "Flight013 {'origin': 'City13', 'destination': 'City23', 'seats_available': 100, 'price': 213, 'class': 'Business', 'duration': '3 hours', 'amenities': ['Wi-Fi', 'Premium Meals']}\n",
            "Flight014 {'origin': 'City14', 'destination': 'City24', 'seats_available': 100, 'price': 214, 'class': 'Economy', 'duration': '4 hours', 'amenities': ['Wi-Fi', 'Snacks']}\n",
            "Flight015 {'origin': 'City15', 'destination': 'City25', 'seats_available': 100, 'price': 215, 'class': 'Business', 'duration': '5 hours', 'amenities': ['Wi-Fi', 'Premium Meals']}\n",
            "Flight016 {'origin': 'City16', 'destination': 'City26', 'seats_available': 100, 'price': 216, 'class': 'Economy', 'duration': '6 hours', 'amenities': ['Wi-Fi', 'Snacks']}\n",
            "Flight017 {'origin': 'City17', 'destination': 'City27', 'seats_available': 100, 'price': 217, 'class': 'Business', 'duration': '7 hours', 'amenities': ['Wi-Fi', 'Premium Meals']}\n",
            "Flight018 {'origin': 'City18', 'destination': 'City28', 'seats_available': 100, 'price': 218, 'class': 'Economy', 'duration': '2 hours', 'amenities': ['Wi-Fi', 'Snacks']}\n",
            "Flight019 {'origin': 'City19', 'destination': 'City29', 'seats_available': 100, 'price': 219, 'class': 'Business', 'duration': '3 hours', 'amenities': ['Wi-Fi', 'Premium Meals']}\n",
            "Flight020 {'origin': 'City20', 'destination': 'City30', 'seats_available': 100, 'price': 220, 'class': 'Economy', 'duration': '4 hours', 'amenities': ['Wi-Fi', 'Snacks']}\n",
            "Flight021 {'origin': 'City21', 'destination': 'City31', 'seats_available': 100, 'price': 221, 'class': 'Business', 'duration': '5 hours', 'amenities': ['Wi-Fi', 'Premium Meals']}\n",
            "Flight022 {'origin': 'City22', 'destination': 'City32', 'seats_available': 100, 'price': 222, 'class': 'Economy', 'duration': '6 hours', 'amenities': ['Wi-Fi', 'Snacks']}\n",
            "Flight023 {'origin': 'City23', 'destination': 'City33', 'seats_available': 100, 'price': 223, 'class': 'Business', 'duration': '7 hours', 'amenities': ['Wi-Fi', 'Premium Meals']}\n",
            "Flight024 {'origin': 'City24', 'destination': 'City34', 'seats_available': 100, 'price': 224, 'class': 'Economy', 'duration': '2 hours', 'amenities': ['Wi-Fi', 'Snacks']}\n",
            "Flight025 {'origin': 'City25', 'destination': 'City35', 'seats_available': 100, 'price': 225, 'class': 'Business', 'duration': '3 hours', 'amenities': ['Wi-Fi', 'Premium Meals']}\n",
            "Flight026 {'origin': 'City26', 'destination': 'City36', 'seats_available': 100, 'price': 226, 'class': 'Economy', 'duration': '4 hours', 'amenities': ['Wi-Fi', 'Snacks']}\n",
            "Flight027 {'origin': 'City27', 'destination': 'City37', 'seats_available': 100, 'price': 227, 'class': 'Business', 'duration': '5 hours', 'amenities': ['Wi-Fi', 'Premium Meals']}\n",
            "Flight028 {'origin': 'City28', 'destination': 'City38', 'seats_available': 100, 'price': 228, 'class': 'Economy', 'duration': '6 hours', 'amenities': ['Wi-Fi', 'Snacks']}\n",
            "Flight029 {'origin': 'City29', 'destination': 'City39', 'seats_available': 100, 'price': 229, 'class': 'Business', 'duration': '7 hours', 'amenities': ['Wi-Fi', 'Premium Meals']}\n",
            "Flight030 {'origin': 'City30', 'destination': 'City40', 'seats_available': 100, 'price': 230, 'class': 'Economy', 'duration': '2 hours', 'amenities': ['Wi-Fi', 'Snacks']}\n",
            "Flight031 {'origin': 'City31', 'destination': 'City41', 'seats_available': 100, 'price': 231, 'class': 'Business', 'duration': '3 hours', 'amenities': ['Wi-Fi', 'Premium Meals']}\n",
            "Flight032 {'origin': 'City32', 'destination': 'City42', 'seats_available': 100, 'price': 232, 'class': 'Economy', 'duration': '4 hours', 'amenities': ['Wi-Fi', 'Snacks']}\n",
            "Flight033 {'origin': 'City33', 'destination': 'City43', 'seats_available': 100, 'price': 233, 'class': 'Business', 'duration': '5 hours', 'amenities': ['Wi-Fi', 'Premium Meals']}\n",
            "Flight034 {'origin': 'City34', 'destination': 'City44', 'seats_available': 100, 'price': 234, 'class': 'Economy', 'duration': '6 hours', 'amenities': ['Wi-Fi', 'Snacks']}\n",
            "Flight035 {'origin': 'City35', 'destination': 'City45', 'seats_available': 100, 'price': 235, 'class': 'Business', 'duration': '7 hours', 'amenities': ['Wi-Fi', 'Premium Meals']}\n",
            "Flight036 {'origin': 'City36', 'destination': 'City46', 'seats_available': 100, 'price': 236, 'class': 'Economy', 'duration': '2 hours', 'amenities': ['Wi-Fi', 'Snacks']}\n",
            "Flight037 {'origin': 'City37', 'destination': 'City47', 'seats_available': 100, 'price': 237, 'class': 'Business', 'duration': '3 hours', 'amenities': ['Wi-Fi', 'Premium Meals']}\n",
            "Flight038 {'origin': 'City38', 'destination': 'City48', 'seats_available': 100, 'price': 238, 'class': 'Economy', 'duration': '4 hours', 'amenities': ['Wi-Fi', 'Snacks']}\n",
            "Flight039 {'origin': 'City39', 'destination': 'City49', 'seats_available': 100, 'price': 239, 'class': 'Business', 'duration': '5 hours', 'amenities': ['Wi-Fi', 'Premium Meals']}\n",
            "Flight040 {'origin': 'City40', 'destination': 'City50', 'seats_available': 100, 'price': 240, 'class': 'Economy', 'duration': '6 hours', 'amenities': ['Wi-Fi', 'Snacks']}\n",
            "Flight041 {'origin': 'City41', 'destination': 'City51', 'seats_available': 100, 'price': 241, 'class': 'Business', 'duration': '7 hours', 'amenities': ['Wi-Fi', 'Premium Meals']}\n",
            "Flight042 {'origin': 'City42', 'destination': 'City52', 'seats_available': 100, 'price': 242, 'class': 'Economy', 'duration': '2 hours', 'amenities': ['Wi-Fi', 'Snacks']}\n",
            "Flight043 {'origin': 'City43', 'destination': 'City53', 'seats_available': 100, 'price': 243, 'class': 'Business', 'duration': '3 hours', 'amenities': ['Wi-Fi', 'Premium Meals']}\n",
            "Flight044 {'origin': 'City44', 'destination': 'City54', 'seats_available': 100, 'price': 244, 'class': 'Economy', 'duration': '4 hours', 'amenities': ['Wi-Fi', 'Snacks']}\n",
            "Flight045 {'origin': 'City45', 'destination': 'City55', 'seats_available': 100, 'price': 245, 'class': 'Business', 'duration': '5 hours', 'amenities': ['Wi-Fi', 'Premium Meals']}\n",
            "Flight046 {'origin': 'City46', 'destination': 'City56', 'seats_available': 100, 'price': 246, 'class': 'Economy', 'duration': '6 hours', 'amenities': ['Wi-Fi', 'Snacks']}\n",
            "Flight047 {'origin': 'City47', 'destination': 'City57', 'seats_available': 100, 'price': 247, 'class': 'Business', 'duration': '7 hours', 'amenities': ['Wi-Fi', 'Premium Meals']}\n",
            "Flight048 {'origin': 'City48', 'destination': 'City58', 'seats_available': 100, 'price': 248, 'class': 'Economy', 'duration': '2 hours', 'amenities': ['Wi-Fi', 'Snacks']}\n",
            "Flight049 {'origin': 'City49', 'destination': 'City59', 'seats_available': 100, 'price': 249, 'class': 'Business', 'duration': '3 hours', 'amenities': ['Wi-Fi', 'Premium Meals']}\n",
            "Flight050 {'origin': 'City50', 'destination': 'City60', 'seats_available': 100, 'price': 200, 'class': 'Economy', 'duration': '4 hours', 'amenities': ['Wi-Fi', 'Snacks']}\n"
          ]
        }
      ]
    },
    {
      "cell_type": "markdown",
      "source": [
        "# Mandatory Question\n",
        "\n",
        "Provide your thoughts on the assignment. What did you find challenging, and what aspects did you enjoy? Your opinion on the provided time to complete the assignment. Share any suggestions for improvement. Your feedback will be valuable for enhancing the learning experience."
      ],
      "metadata": {
        "id": "q8BFCvWp32cf"
      }
    },
    {
      "cell_type": "code",
      "source": [
        "# Write your response below\n",
        "\n",
        "# I find this assignmenet both interesting and challenging at the same time escpecially the questions where I need to take AI assistance.\n",
        "# I watched the class materials and class demo for the refernce and I was able to complete the assignment.\n",
        "# It took me around 5 days to work on this assignment.\n",
        "# I really enjoyed working on Question number 4 using mathematical experession function.\n",
        "# Some of the questions were difficult to process.\n"
      ],
      "metadata": {
        "id": "_e557s2w4BpK"
      },
      "execution_count": 76,
      "outputs": []
    }
  ],
  "metadata": {
    "colab": {
      "provenance": []
    },
    "kernelspec": {
      "display_name": "Python 3",
      "name": "python3"
    },
    "language_info": {
      "codemirror_mode": {
        "name": "ipython",
        "version": 3
      },
      "file_extension": ".py",
      "mimetype": "text/x-python",
      "name": "python",
      "nbconvert_exporter": "python",
      "pygments_lexer": "ipython3",
      "version": "3.9.12"
    }
  },
  "nbformat": 4,
  "nbformat_minor": 0
}